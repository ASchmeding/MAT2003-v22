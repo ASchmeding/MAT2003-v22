{
 "cells": [
  {
   "cell_type": "markdown",
   "metadata": {},
   "source": [
    "# Oppgaver (Python, funksjoner)\n",
    "\n",
    "I JuPyter notater finner dere de oppgaver for Uke 3. Vi forventer at dere besvarer oppgavene i notatoka og laster opp utfyllt notatbok i Canvas (sjekk Canvas for innleveringsfrist, oppgaver for første uke leveres **Fredag 28.01. kl. 15.00**)\n",
    "\n",
    "Første oppgave, sett inn koden i cellen under for å få Python å skrive ut ditt navn: "
   ]
  },
  {
   "cell_type": "code",
   "execution_count": null,
   "metadata": {},
   "outputs": [],
   "source": [
    "#Skriv koden din under og kjør den ved å trykke SHIFT + ENTER"
   ]
  },
  {
   "cell_type": "markdown",
   "metadata": {},
   "source": [
    "# Oppgave 1\n",
    "\n",
    "For kodesnuttene under, svar på følgende:\n",
    "\n",
    "1. Hva tror du eleven har prøvd å få til?\n",
    "2. Hva er output fra programmet?\n",
    "3. Hva har elevene misforstått?\n",
    "4. Hvordan kan vi rette opp programmet?\n",
    "\n",
    "Tip: Det er ikke ønskelig at funskjoner som er definert nede gi tilbake <code>None</code> og dermed leverer ingen funksjonsverdi"
   ]
  },
  {
   "cell_type": "code",
   "execution_count": null,
   "metadata": {},
   "outputs": [],
   "source": [
    "# Kode 1:\n",
    "# --------------\n",
    "\n",
    "def f(x):\n",
    "    y= x**2\n",
    "    \n",
    "a = f(2)\n",
    "print(a)"
   ]
  },
  {
   "cell_type": "code",
   "execution_count": null,
   "metadata": {},
   "outputs": [],
   "source": [
    "#Skriv svaret ditt under (bruk kommentar for svarene \n",
    "# som ikke skal utføres som kode), test rettet koden din "
   ]
  },
  {
   "cell_type": "code",
   "execution_count": null,
   "metadata": {},
   "outputs": [],
   "source": [
    "# Kode 2\n",
    "# ------------------------\n",
    "\n",
    "def f(x):\n",
    "    y = x**2\n",
    "    a = f(2)\n",
    "    print(a) "
   ]
  },
  {
   "cell_type": "code",
   "execution_count": null,
   "metadata": {},
   "outputs": [],
   "source": [
    "#Skriv svaret ditt under (bruk kommentar for svarene \n",
    "# som ikke skal utføres som kode), test rettet koden din "
   ]
  },
  {
   "cell_type": "code",
   "execution_count": null,
   "metadata": {},
   "outputs": [],
   "source": [
    "# Kode 3\n",
    "# ----------------------------------\n",
    "for i in range(10):\n",
    "    def f(x):\n",
    "        return x**2\n",
    "    print(f(x))"
   ]
  },
  {
   "cell_type": "code",
   "execution_count": null,
   "metadata": {},
   "outputs": [],
   "source": [
    "Skriv svaret ditt under (bruk kommentar for svarene \n",
    "# som ikke skal utføres som kode), test rettet koden din "
   ]
  },
  {
   "cell_type": "markdown",
   "metadata": {},
   "source": [
    "# Oppgave 2\n",
    "\n",
    "Odd har hørt begrepet \"tverrsum\" i matematikkundervisning, men han vet ikke hva det betyr. Klassekameraten Ammar er god i matematikk og flink til å programmere. Han har laget denne koden til Odd for at han selv skal finne ut hva tverrsummen til et tall er:"
   ]
  },
  {
   "cell_type": "code",
   "execution_count": null,
   "metadata": {},
   "outputs": [],
   "source": [
    "import random\n",
    "tall = random.randint(1,1000)\n",
    "print(\"tall: \" + str(tall))\n",
    "for digit in str(tall):\n",
    "    print(\"siffer: \" + str(digit))\n",
    "print(\"sum av sifrene: \" + str(sum(int(digit)for digit in str(tall))))"
   ]
  },
  {
   "cell_type": "markdown",
   "metadata": {},
   "source": [
    "(a) Kjør koden over flere ganger og forklar med ord hva \"tversum\" er. Hva er den laveste og hva er den høyeste tverrsummen du kan få slik som koden er nå?"
   ]
  },
  {
   "cell_type": "markdown",
   "metadata": {},
   "source": [
    "**Plass for ditt svar, dobbeltklikk her for å skrive noe**"
   ]
  },
  {
   "cell_type": "markdown",
   "metadata": {},
   "source": [
    "(b) Lag kommentar i hver linje av koden som står under som forklarer hva sker i linjen.\n",
    "\n",
    "Tip:\n",
    "- kommandoene <code>str()</code> og <code>int()</code> er forklart i JuPyter notat om typene \n",
    "- <code>int(digit)for digit in str(tall)</code> er kortnotasjon for en <code>for</code>-løkke som gjennomgår en liste (i den fall str(tall)), på engelsk heter den konstruksjon [list comprehension](https://docs.python.org/3/tutorial/datastructures.html#list-comprehensions)"
   ]
  },
  {
   "cell_type": "code",
   "execution_count": null,
   "metadata": {},
   "outputs": [],
   "source": [
    "#Kommenter koden under! Hva skjer?\n",
    "import random\n",
    "tall = random.randint(1,1000)\n",
    "print(\"tall: \" + str(tall))\n",
    "for digit in str(tall):\n",
    "    print(\"siffer: \" + str(digit))\n",
    "print(\"sum av sifrene: \" + str(sum(int(digit)for digit in str(tall))))"
   ]
  },
  {
   "cell_type": "markdown",
   "metadata": {},
   "source": [
    "(c) Odd laget sin egen kode for å prøve å finne tverrsummen av ulike tall, men mangler noe i linjene 1 og 3 for at programmet skal fungere. Rett programmet som står under"
   ]
  },
  {
   "cell_type": "code",
   "execution_count": null,
   "metadata": {},
   "outputs": [],
   "source": [
    "#Odds program som ikke funker...\n",
    "tall = \n",
    "tverrsum = sum(int(digit)for digit in str(tall))\n",
    "print()"
   ]
  },
  {
   "cell_type": "markdown",
   "metadata": {},
   "source": [
    "(d) Nå vil guttene lage en kode der de kan sjekke etter ulike tverrsummer i ulike tall-intervaller. F.eks. Programmen skal være i stedet for å sjekke hvilke tall mellom $10$ og $30$ har tversum lik $4$ (men brukeren skal bestemme hva tversummen skulle bli lik). For eksemplen over er svar: $13$ og $22$. Her er deler av en kode som kan fungere. Det mangler kode i linje 4, 6 og 7. Kan du hjelpe dem videre?"
   ]
  },
  {
   "cell_type": "code",
   "execution_count": null,
   "metadata": {},
   "outputs": [],
   "source": [
    "#Koden som ikke funker og må rettes...\n",
    "a = 10\n",
    "b = 30\n",
    "svar = int(input(\"Hvilken tverrsum vil du sjekke etter? \"))\n",
    "for i in range( , ):\n",
    "    tverrsum = sum(int(digit) for digit in str(i))\n",
    "    if tverrsum ==  :\n",
    "        print()"
   ]
  },
  {
   "cell_type": "markdown",
   "metadata": {},
   "source": [
    "(e) Forklar hva den følgende program gjør og legg til kommentar i hver linje som forklares hva skjer:"
   ]
  },
  {
   "cell_type": "code",
   "execution_count": null,
   "metadata": {},
   "outputs": [],
   "source": [
    "from matplotlib import pyplot\n",
    "%matplotlib inline\n",
    "n = 100\n",
    "x = []\n",
    "y = []\n",
    "for i in range(1, n):\n",
    "  tverrsum = sum(int(digit) for digit in str(i))\n",
    "  x.append(tverrsum)\n",
    "print(x)\n",
    "for i in x:\n",
    "  svar = x.count(i)\n",
    "  y.append(svar)\n",
    "  print(\"tverrsum \" + str(i) + \" - antall:\" + str(svar))\n",
    "pyplot.bar(x,y)\n",
    "pyplot.xlabel(\"Tverrsum\")\n",
    "pyplot.ylabel(\"Antall\")\n",
    "pyplot.title(\"Antall av de ulike tverrsummene av tallene\")\n",
    "pyplot.show()"
   ]
  },
  {
   "cell_type": "markdown",
   "metadata": {},
   "source": [
    "# Oppgave 3\n",
    "\n",
    "(a) Lag en funksjon <code>min_summe</code> i Python som tar imot en liste av tall og beregner summen av listen. \n",
    "\n",
    "Merk: \n",
    "- Du må lage den funksjonen uten å bruke funksjoner fra biblioteker i Python som beregner summen av en liste. Dvs. **ikke bruk** for eksempel fra NumPy funksjonen <code>numpy.sum</code>\n",
    "- Vi forventer at din funksjon ble lagd sammen med en funksjonsdokumentasjon   "
   ]
  },
  {
   "cell_type": "code",
   "execution_count": null,
   "metadata": {},
   "outputs": [],
   "source": [
    "#plass for din kode. Merk at funksjonen må nevnes min_summe!"
   ]
  },
  {
   "cell_type": "code",
   "execution_count": null,
   "metadata": {},
   "outputs": [],
   "source": [
    "#Testcelle for din funksjon, ikke endre noe inn i her\n",
    "print(min_summe([1,2,3,4,5]))      #Forvented resultat 15\n",
    "print(min_summe([1.5,-2.3,5,2,3])) #Forvented resultat 9.2"
   ]
  },
  {
   "cell_type": "markdown",
   "metadata": {},
   "source": [
    "(b) Hvis vi kjører funkjsonen <code>min_summe</code> med listen <code> [1, 2, 'Haha!' ,3]</code> får vi en feilmelding **TypeError**. Forklar hva feilmedling betyr i forhold til hva funksjonen din gjør og listen den ble gitt.\n",
    "\n",
    "Tips: Det kan være lurt å kjøre koden for å se på den nøyaktig feilmelding"
   ]
  },
  {
   "cell_type": "markdown",
   "metadata": {},
   "source": [
    "**Skriv svaret ditt inn i tekstboksen (dobbeltklikk her for å skrive noe)**"
   ]
  },
  {
   "cell_type": "markdown",
   "metadata": {},
   "source": [
    "(c) Vi forbedrer nå vår funksjon <code>min_summe</code>. Lag en ny funksjon <code>sum_alt_du_kan</code> som tar imot en liste og adderer alle tall i listen (mens det gjør ingenting med elementene som kan ikke adderes til tall).\n",
    "\n",
    "Tip: Du kan f.eks. sjekke ved hjelp av en <code>if</code>-vilkår hvis en element i listen er av type <code>int</code> eller <code>float</code>. Hvis det er sant adderes ellers bryr vi oss ikke."
   ]
  },
  {
   "cell_type": "code",
   "execution_count": null,
   "metadata": {},
   "outputs": [],
   "source": [
    "#plass for din kode. Merk at funksjonen må nevnes sum_alt_du_kan!"
   ]
  },
  {
   "cell_type": "code",
   "execution_count": null,
   "metadata": {},
   "outputs": [],
   "source": [
    "#Testcelle for din funksjon, ikke endre noe inn i her\n",
    "print(sum_alt_du_kan([1,2,3,4,5]))      #Forvented resultat 15\n",
    "print(sum_alt_du_kan([1.5,-2.3,5,2,3])) #Forvented resultat 9.2\n",
    "print(sum_alt_du_kan([1,2,'Haha',3]))   #Forvented resultat 6\n",
    "print(sum_alt_du_kan(['1','to','tre'])) #Forvented resultat 0"
   ]
  }
 ],
 "metadata": {
  "kernelspec": {
   "display_name": "Python 3",
   "language": "python",
   "name": "python3"
  },
  "language_info": {
   "codemirror_mode": {
    "name": "ipython",
    "version": 3
   },
   "file_extension": ".py",
   "mimetype": "text/x-python",
   "name": "python",
   "nbconvert_exporter": "python",
   "pygments_lexer": "ipython3",
   "version": "3.7.4"
  }
 },
 "nbformat": 4,
 "nbformat_minor": 2
}
