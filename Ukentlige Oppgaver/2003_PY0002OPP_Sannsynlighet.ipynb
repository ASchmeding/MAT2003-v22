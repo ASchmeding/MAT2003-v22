{
 "cells": [
  {
   "cell_type": "markdown",
   "metadata": {},
   "source": [
    "# Oppgaver (Python, vilkår, løkker og sannsynlighet)\n",
    "\n",
    "I JuPyter notater finner dere de oppgaver for Uke 1. Vi forventer at dere besvarer oppgavene i notatoka og laster opp utfyllt notatbok i Canvas (sjekk Canvas for innleveringsfrist, oppgaver for første uke leveres **Fredag 21.01. kl. 15.00**)\n",
    "\n",
    "Første oppgave, sett inn koden i cellen under for å få Python å skrive ut ditt navn: "
   ]
  },
  {
   "cell_type": "code",
   "execution_count": null,
   "metadata": {},
   "outputs": [],
   "source": [
    "#Skriv koden din under og kjør den ved å trykke SHIFT + ENTER"
   ]
  },
  {
   "cell_type": "markdown",
   "metadata": {},
   "source": [
    "## Oppgave 1\n",
    "\n",
    "(a) Lag et program som finner summen av $2$ terninger. \n",
    "\n",
    "Tips: Du må laste inn noen bibliotek for å få pågrep på tilfeldige tall..."
   ]
  },
  {
   "cell_type": "code",
   "execution_count": null,
   "metadata": {},
   "outputs": [],
   "source": [
    "#Skriv koden din under og kjør den ved å trykke SHIFT + ENTER"
   ]
  },
  {
   "cell_type": "markdown",
   "metadata": {},
   "source": [
    "(b) Lag et program som finner ut hvor mange ganger summen blir over $10$ når du kaster to terninger $50$ ganger."
   ]
  },
  {
   "cell_type": "code",
   "execution_count": null,
   "metadata": {},
   "outputs": [],
   "source": [
    "#Skriv koden din under og kjør den ved å trykke SHIFT + ENTER"
   ]
  },
  {
   "cell_type": "markdown",
   "metadata": {},
   "source": [
    "(c) Bygg ut programmet ditt slik at du kan anslå sannsynligheten for å få en sum som er over $10$, når du kaster $2$ terninger.\n",
    "\n",
    "Tips: Teoretisk bygger det på to ting vi har diskutert siste semester: Laplace prinsippet og empirisk tolkning av sannsynlighet. Sjekk disse ut hvis du ikke vet hvordan man kunne løse oppgaven. Det du må huske er at vi trenger mange terningskast for å anslå sannsynligheten..."
   ]
  },
  {
   "cell_type": "code",
   "execution_count": null,
   "metadata": {},
   "outputs": [],
   "source": [
    "#Skriv koden din under og kjør den ved å trykke SHIFT + ENTER"
   ]
  },
  {
   "attachments": {
    "kvadrater.png": {
     "image/png": "[encoded data removed]"
    }
   },
   "cell_type": "markdown",
   "metadata": {},
   "source": [
    "## Oppgave 2\n",
    "\n",
    "Vi tenker oss et kvadrat. I dette kvadratet tegner vi et nytt, mindre, kvadrat med sider som er halvparten så lange som det opprinnelige kvadratet. Det hele kan se slik ut:\n",
    "\n",
    "![kvadrater.png](attachment:kvadrater.png)\n",
    "\n",
    "Dersom vi velger oss et tilfeldig koordinat i det røde kvadratet, hva er da sannsynligheten for at det også er i det blå kvadratet? \n",
    "\n",
    "Matematisk så kan vi regne ut dette helt nøyaktig, men nå skal du lage et program som finner tilfeldige koordinater, si $1000$ ganger, og finner ut om de er inni eller utenfor. Bruk det du finner til å anslå sannsynligheten.\n",
    "\n",
    "For å svare på det:\n",
    "- La oss tenke oss at det store kvadratet er $1000 \\times 1000$, dermed er den røde kvadrat $500 \\times 500$ (dere bestemmer hvor detn ligger i det store kvadrat, det spiller ingen roll for oppgaven)\n",
    "- Alt vi trenger for å lage et tilfeldig punkt i kvadraten er tilfeldige $x$ og $y$-verdier. Vi kan lage dem ved å velge to tilfeldige tall mellom $1$ og $1000$. \n",
    "- Etter det blå kvadratet er plassert må du bare sjekke de tilfeldige koordinatene i forhold til dette.\n",
    "\n",
    "Tips: Sansynligheten anslårs igjen ved bryk av empirisk tolkning av sannsynlighet."
   ]
  },
  {
   "cell_type": "code",
   "execution_count": null,
   "metadata": {},
   "outputs": [],
   "source": [
    "#Skriv koden din under og kjør den ved å trykke SHIFT + ENTER"
   ]
  },
  {
   "cell_type": "markdown",
   "metadata": {},
   "source": [
    "# Oppgave 3\n",
    "\n",
    "(a) Den følgende kode skriver ut partallene mellom $500$ og $750$ med en <code>while</code>-løkke. Se på kode og kommenter den linje for linje med forklaringer hva skjer."
   ]
  },
  {
   "cell_type": "code",
   "execution_count": null,
   "metadata": {},
   "outputs": [],
   "source": [
    "n=500\n",
    "while n < 751:\n",
    "    print(n)\n",
    "    n += 2"
   ]
  },
  {
   "cell_type": "markdown",
   "metadata": {},
   "source": [
    "(b) Hvordan må jeg endre koden i (a) hvis jeg vil få alle oddetall mellom $500$ og $750$? Sett inn ny kode som gjør det i neste cellen:"
   ]
  },
  {
   "cell_type": "code",
   "execution_count": null,
   "metadata": {},
   "outputs": [],
   "source": [
    "#Skriv koden din under, husk å kjøre den ved å trykke SHIFT + ENTER "
   ]
  },
  {
   "cell_type": "markdown",
   "metadata": {},
   "source": [
    "(b) *Fibonacci tallene* er en spesiell tallrekke som er gitt ved \n",
    "$$1 ,\\ 1 ,\\ 2 ,\\ 3,\\ 5,\\ 8,\\ 13,\\ \\cdots$$\n",
    "Før du gjør noe, finn ut hvordan tallene ble laget (gøy) eller sjekk det på [Wikipedia](https://no.wikipedia.org/wiki/Fibonaccitall) (kjedelig). \n",
    "\n",
    "Lag nå et dataprogram i Python som lager en liste (Jupyter notat om lister på Canvas kan hjelpe deg med det!) som inneholder de $20$ første tallene i denne tallrekken! Avslutt programmet med å skrive ut listen."
   ]
  },
  {
   "cell_type": "code",
   "execution_count": null,
   "metadata": {},
   "outputs": [],
   "source": [
    "#Skriv koden din under, husk å kjøre den ved å trykke SHIFT + ENTER "
   ]
  },
  {
   "cell_type": "markdown",
   "metadata": {},
   "source": [
    "(c) Noe som er veldig interessant med denne tallrekken er forholdet mellom etterfølgende element. Lag en ny liste i programmet ditt, der du legger inn forholdet mellom tall 2 og tall 1, tall 3 og tall 2, tall 4 og tall 3 osv..\n",
    "\n",
    "Tips: Hvis $Fib_n$ er det $n$te Fibonacci tall og $Fib_{n-1}$ er det $n-1$ste Fibonacci tall så er forhold mellomm dem brøk: $Fib_n / Fib_{n-1}$"
   ]
  },
  {
   "cell_type": "code",
   "execution_count": null,
   "metadata": {},
   "outputs": [],
   "source": [
    "#Skriv koden din under, husk å kjøre den ved å trykke SHIFT + ENTER "
   ]
  },
  {
   "cell_type": "markdown",
   "metadata": {},
   "source": [
    "Hva observerer du når du ser på tallene? Det skjer noe som spesielt med de tallene vi ender opp med (faktisk tilnærmerer de seg et veldig berømt tall). Hvis du ikke kjenner det igjen, se om Google kanskje gjør det... (skriv svaret ditt i tekstboksen under)"
   ]
  },
  {
   "cell_type": "markdown",
   "metadata": {},
   "source": [
    "**Cellen for svaret ditt (dobbeltklikk her for å skrive noe)**"
   ]
  },
  {
   "cell_type": "markdown",
   "metadata": {},
   "source": [
    "(d) Se på kode nedover. Hva er verdien av variablen $y$ etter koden har kjørt? \n",
    "Skriv kommentar ved siden av hver linje i kode som forklarer hva skjer i denne linja."
   ]
  },
  {
   "cell_type": "code",
   "execution_count": null,
   "metadata": {},
   "outputs": [],
   "source": [
    "y = 0\n",
    "for i in range(1000):\n",
    "    for j in range(1000):\n",
    "        if i == j:\n",
    "            y += 1"
   ]
  },
  {
   "cell_type": "markdown",
   "metadata": {},
   "source": [
    "Noen tipps: \n",
    "1. $==$ er et logisk utrykk (sjekk f.eks. notatbok om vilkår på Canvas for å finne ut mer)\n",
    "2. <code>+=</code> adderer til det som står på venstre det som står på høyre.\n",
    "3. Du kan bruke <code>?kommando</code> for å få Python å gi mer informasjon om innebyggde funksjoner som for eksempel <code>range</code>"
   ]
  }
 ],
 "metadata": {
  "kernelspec": {
   "display_name": "Python 3",
   "language": "python",
   "name": "python3"
  },
  "language_info": {
   "codemirror_mode": {
    "name": "ipython",
    "version": 3
   },
   "file_extension": ".py",
   "mimetype": "text/x-python",
   "name": "python",
   "nbconvert_exporter": "python",
   "pygments_lexer": "ipython3",
   "version": "3.7.4"
  }
 },
 "nbformat": 4,
 "nbformat_minor": 2
}
