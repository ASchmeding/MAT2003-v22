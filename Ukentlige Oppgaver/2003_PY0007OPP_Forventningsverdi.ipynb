{
 "cells": [
  {
   "cell_type": "markdown",
   "metadata": {},
   "source": [
    "# Oppgaver Uke 7\n",
    "\n",
    "I JuPyter notater finner dere de oppgaver for uke 7. Mange av disse oppgaver kan besvares uten bruk av Python og dermed kan dere svare på papir, ta bildet og leverer bildet i Canvas. Hvis det gjelder programmering forventer vi fortsatt at dere besvarer oppgavene i notatoka og laster opp utfyllt notatbok i Canvas (sjekk Canvas for innleveringsfrist, oppgaver for sjette uke leveres Fredag 25.02. kl. 15.00). Som vi pleier å gjøre i Jupyter lekser: Sett inn en funksjon som skriver ut ditt navn på skjermen:"
   ]
  },
  {
   "cell_type": "code",
   "execution_count": null,
   "metadata": {},
   "outputs": [],
   "source": [
    "#Plass for ditt svar"
   ]
  },
  {
   "cell_type": "markdown",
   "metadata": {},
   "source": [
    "# Oppgave 1\n",
    "\n",
    "(a) Anta at et tilfeldig utvalg av $2$ lyspærer er valgt. Det er vist at i gjennomsnitt i en gruppe på 8 pærer det fins 3 defekte pærer.  La $X$ representere antall defekte pærer som oppstår på en gitt prøve. Finn forventningsverdi $\\mathbb{E}(X)$ av $X$."
   ]
  },
  {
   "cell_type": "markdown",
   "metadata": {},
   "source": [
    "**Plass for ditt svar, dobbeltklikk for å skrive noe**"
   ]
  },
  {
   "cell_type": "markdown",
   "metadata": {},
   "source": [
    "(b) Studentforeningen har planlagt en utendørskonsert til lørdag 8. mars. Hvis det ikke regner, står studentene til å tjene $200 000$kr på konserten. Hvis det regner, vil studentene bli tvunget til å avlyse konserten og vil miste $120 000$kr (honorar, reklamekostnader, lokalleie osv.) Studentene har fått vite fra værtjenesten at sannsynligheten for regn 8. mars er $0,4$. Finn og tolk studentenes \"forventede fortjeneste\"."
   ]
  },
  {
   "cell_type": "markdown",
   "metadata": {},
   "source": [
    "**Plass for ditt svar, dobbeltklikk for å skrive noe**"
   ]
  },
  {
   "cell_type": "markdown",
   "metadata": {},
   "source": [
    "# Oppgave 2\n",
    "\n",
    "I dette oppgave ser vi litt på gambling. Viktigst for oss er følgende definisjoner som skal brukes for hele oppgaven.\n",
    "Vi bryr oss om et spill mellom to (eller flere) personer for penger. For dette skal vi anta at:\n",
    "- spillet er tilfeldig, dvs. gevinst for hver deltaker kan modelleres som en tilfeldig variabel,\n",
    "- gevinst for en deltaker modelleres i variablen som positive verdier for deltakeren mens tap modelleres som negative verdier \n",
    "\n",
    "**Definisjon (rettferdig spill)** . Vi sier at et spill er *rettferdig*, hvis forventningsverdi til gevinsten for hver spiller er lik $0$.  \n",
    "*Merk: Hvis det er ett spill med to spiller så er spillet rettferdig hvis og bare hvis forventningsverdi til gevinst av et spiller er lik $0$. (Hvorfor?)*"
   ]
  },
  {
   "cell_type": "markdown",
   "metadata": {},
   "source": [
    "(a) Forklar kort hvorfor den matematisk begrep av et rettferdig spill (som i definisjon over) gir mening, dvs. hvordan kan vi tolke det slik at det passer til det folk i hverdagen ville forstå som et rettferdig sjansespill.   \n",
    "Tip: Et godt svar må tolke forventningsverdien i sammenheng med spørsmål."
   ]
  },
  {
   "cell_type": "markdown",
   "metadata": {},
   "source": [
    "**Plass for ditt svar, dobbeltklikk for å skrive noe**"
   ]
  },
  {
   "cell_type": "markdown",
   "metadata": {},
   "source": [
    "**Eksempel** Bård og Odd knipser mynter, hvis det kommer opp kron får Bård $1$kr, hvis det er mynt så får Odd $1$kr. Nå Hvis $B$ er den tilfeldige variabel som beskriver gevinst til Bård, så er $B(\\text{kron})=1$ og $B(\\text{mynt}) = -1$. Omvendt gjelder for den tilfeldige variablen $O$ som måler gevinst for Odd $O(\\text{kron}) = -1$ og $O(\\text{mynt})=1$. Nå $\\mathbb{E}(B)= 1\\cdot \\frac{1}{2}+(-1)\\cdot \\frac{1}{2} = 0$, så spillet er rettferdig (sjekk gjerne forventningsverdi til $O$)."
   ]
  },
  {
   "cell_type": "markdown",
   "metadata": {},
   "source": [
    "(b) Vi ser på et spill hvor du kaster to terninger. For å være med i spillet må man betale $3$kr innsats og hvis begge terninger viser en $1$, så får man en gevinst av $x$kr. Bestemm $x$ slik at spillet er rettferdig."
   ]
  },
  {
   "cell_type": "markdown",
   "metadata": {},
   "source": [
    "**Plass for ditt svar, dobbeltklikk for å skrive noe**"
   ]
  },
  {
   "cell_type": "markdown",
   "metadata": {},
   "source": [
    "(c) vi ser igjen på terningsspillet fra (a) men endrer når du får gevinst (man må betale fortsatt $3$kr innsats). Du får nå $4$kr når begge terninger viser $1$ og i tillegg får du $y$kr hvis minst en av terninger viser en $1$ eller $2$. Bestemm $y$ slik at spillet er rettferdig."
   ]
  },
  {
   "cell_type": "markdown",
   "metadata": {},
   "source": [
    "**Plass for ditt svar, dobbeltklikk for å skrive noe**"
   ]
  },
  {
   "cell_type": "markdown",
   "metadata": {},
   "source": [
    "(d) Vi ser på et annet spill som foregår som beskrivet under:\n",
    "- Innsats $2$kr\n",
    "- Spilleren satser på en av tallene $1,2,3,4,5,6$ og kaster en terning tre ganger, gevinst er avhengig av hvor ofte terningen viser tallet spilleren satset på. Hvis tallet fins:\n",
    "  - ikke, så  taper man innsats\n",
    "  - en gang, får man tilbake innsatsen\n",
    "  - to ganger, får man dobbelt innsats\n",
    "  - treg ganger, så får man tre ganger innsats\n",
    "La $X$ være den tilfeldig variabel som beskriver gevinst i spillet etter man trekker fra innsats. Beregn forventningsverdi til $X$ og avgjør om spillet er rettferdig."
   ]
  },
  {
   "cell_type": "markdown",
   "metadata": {},
   "source": [
    "**Plass for ditt svar, dobbeltklikk for å skrive noe**"
   ]
  },
  {
   "cell_type": "markdown",
   "metadata": {},
   "source": [
    "# Oppgave 3\n",
    "\n",
    "(a) Se på den følgende Python kode som skal estimere forventningsverdi til en tilfeldig variabel $X$. Skriv en funksjonsdokumentasjon og kommenter linje for linje hva koden gjør."
   ]
  },
  {
   "cell_type": "code",
   "execution_count": null,
   "metadata": {},
   "outputs": [],
   "source": [
    "def regn_ut_forventning(X,n):\n",
    "    #Funksjonsdokumentasjon mangles...\n",
    "    sans = 1 / n\n",
    "     \n",
    "    forv_verdi = 0\n",
    "    for a in range(n):\n",
    "        forv_verdi += (X() * sans)\n",
    "    return forv_verdi"
   ]
  },
  {
   "cell_type": "code",
   "execution_count": null,
   "metadata": {},
   "outputs": [],
   "source": [
    "#Testfelt med en testvariabel som simulerer en fair mynt\n",
    "import random\n",
    "def testvariabel ():\n",
    "    x = random.random()\n",
    "    if x <= 0.5:\n",
    "        return 1\n",
    "    else:\n",
    "        return -1\n",
    "    \n",
    "regn_ut_forventning(testvariabel,10000)"
   ]
  },
  {
   "cell_type": "markdown",
   "metadata": {},
   "source": [
    "(b) Skriv en funksjon i Python som automatiserer beregning av forventningsverdier slik at den tar imot to lister, en med sannsynligheter og en med verdier til den tilfeldige variablen. "
   ]
  },
  {
   "cell_type": "code",
   "execution_count": null,
   "metadata": {},
   "outputs": [],
   "source": [
    "def beregn_forventningsverdi (listeA, listeB): #ikke forandre linjen\n",
    "    #Funksjonsdokumentasjon...\n",
    "    #Plass for ditt svar"
   ]
  }
 ],
 "metadata": {
  "kernelspec": {
   "display_name": "Python 3",
   "language": "python",
   "name": "python3"
  },
  "language_info": {
   "codemirror_mode": {
    "name": "ipython",
    "version": 3
   },
   "file_extension": ".py",
   "mimetype": "text/x-python",
   "name": "python",
   "nbconvert_exporter": "python",
   "pygments_lexer": "ipython3",
   "version": "3.7.4"
  }
 },
 "nbformat": 4,
 "nbformat_minor": 4
}
