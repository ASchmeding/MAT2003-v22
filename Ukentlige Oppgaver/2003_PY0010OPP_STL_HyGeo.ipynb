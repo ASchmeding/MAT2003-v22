{
 "cells": [
  {
   "cell_type": "markdown",
   "metadata": {},
   "source": [
    "# Oppgaver Uke 10\n",
    "I JuPyter notater finner dere de oppgaver for uke 10. Mange av disse oppgaver kan besvares uten bruk av Python og dermed kan dere svare på papir, ta bildet og leverer bildet i Canvas. Hvis det gjelder programmering forventer vi fortsatt at dere besvarer oppgavene i notatoka og laster opp utfyllt notatbok i Canvas (sjekk Canvas for innleveringsfrist, oppgaver for sjette uke leveres Fredag 18.03. kl. 15.00). Som vi pleier å gjøre i Jupyter lekser: Sett inn en funksjon som skriver ut ditt navn på skjermen:"
   ]
  },
  {
   "cell_type": "code",
   "execution_count": null,
   "metadata": {},
   "outputs": [],
   "source": [
    "#Plass for ditt svar"
   ]
  },
  {
   "cell_type": "markdown",
   "metadata": {},
   "source": [
    "# Oppgave 1\n",
    "\n",
    "I forelesning har vi lært om den store talls lov.\n",
    "\n",
    "(a) Forklar i egne ord loven og hvorfor det knytter sammen statistikk og sannsynlighetsteori.\n",
    "\n",
    "**Tip**: Antar at du ser på et tilfeldig eksperiment du har ingen ide om hvordan tilfeldigheten er fordelt (men som kan gjentas enkelt). "
   ]
  },
  {
   "cell_type": "markdown",
   "metadata": {},
   "source": [
    "**Plass for ditt svar, dobbeltklikk for å skrive noe**"
   ]
  },
  {
   "cell_type": "markdown",
   "metadata": {},
   "source": [
    "(b) Det fins mange feile tolkninger av den store talls loven. Et veldig berømt eksempel ('gamblers fallacy') for dette har skjedd i rulett på Monte Carlo Casino, 18. august 1913, da ballen falt i svart $26$ ganger på rad. Dette var en ekstremt uvanlig forekomst: sannsynligheten for at en sekvens av enten rød eller svart opptrer $26$ ganger på rad er\n",
    "$$\\left( \\frac{18}{37}\\right)^{26-1} \\text{eller rundt $1$ av $66,6$ millioner,}$$ \n",
    " forutsatt at mekanismen er fair. Gamblere tapte millioner av franc ved å satse mot svarte fordi de deduserte fra den store talls lov at det må være mer sannsynlig nå at nå måtte man ha flere ganger rødt etter en slik rekke av svarte trekk.\n",
    "\n",
    "Forklar hvorfor det er ikke sant og hvorfor man kan akkurat ikke dedusere det fra den store talls loven."
   ]
  },
  {
   "cell_type": "markdown",
   "metadata": {},
   "source": [
    "**Plass for ditt svar, dobbeltklikk for å skrive noe**"
   ]
  },
  {
   "cell_type": "markdown",
   "metadata": {},
   "source": [
    "# Oppgave 2\n",
    "\n",
    "De følgende oppgaver dreier seg om den hypergeometriske fordeling.\n",
    "\n",
    "(a) I en skål ligger det $4$ røde seigmenn og $2$ grønne seigmenn. Du tar tilfeldig tre seigmenn fra skåla. Hva er sannsynligheten at du får \n",
    "* To røde seigmenn\n",
    "* Tre røde seigmenn\n",
    "* Minst $2$ røde seigmenn\n",
    "\n",
    "(Om du bruker Geogebra for å avgjøre resultatet inkluder et bildet fra Geogebra som viser hva du har utregnet)"
   ]
  },
  {
   "cell_type": "markdown",
   "metadata": {},
   "source": [
    "**Plass for ditt svar, dobbeltklikk for å skrive noe**"
   ]
  },
  {
   "cell_type": "markdown",
   "metadata": {},
   "source": [
    "(b) En kasse innholder $30$ plommer av sort A og $20$ plommer av sort B. En kunde velger tilfeldig $15$ plommer fra kassen. Hva er sannsynligheten for at kunden får\n",
    "* $10$ plommer av sort A\n",
    "* minst $10$ plommer av sort A\n",
    "* minst $8$ plommer av sort B"
   ]
  },
  {
   "cell_type": "markdown",
   "metadata": {},
   "source": [
    "**Plass for ditt svar, dobbeltklikk for å skrive noe**"
   ]
  },
  {
   "cell_type": "markdown",
   "metadata": {},
   "source": [
    "# Oppgave 3\n",
    "\n",
    "(a) Se på den følgende Python kode som plotter den hypergeometrisk fordeling. Kommenter koden linje for linje og forklar hva koden gjør.\n",
    "\n",
    "Tip: SciPy er en programbibliotek for Python som har mange metoder tilsvarende til de fordelinger vi ser på. Sjekk ut dolumentasjonen på nett!"
   ]
  },
  {
   "cell_type": "code",
   "execution_count": null,
   "metadata": {},
   "outputs": [],
   "source": [
    "from scipy.stats import hypergeom\n",
    "import matplotlib.pyplot as plt\n",
    "\n",
    "[M, n, N] = [20, 7, 12]\n",
    "hvor_ofte = 1000\n",
    "tilf_verd = hypergeom.rvs(M, n, N, size=hvor_ofte)\n",
    "\n",
    "lgjen = [tilf_verd[0]]\n",
    "for i in range(1,hvor_ofte):\n",
    "    lgjen.append((tilf_verd[i]+(i-1)*lgjen[i-1])/i)\n",
    "    \n",
    "x=range(hvor_ofte) \n",
    "forvented = [(12*7)/20]*(hvor_ofte)     \n",
    "plt.plot(x, lgjen, 'b-')\n",
    "plt.plot(x,forvented, 'r--')\n",
    "plt.xlabel('antall forsøk')\n",
    "plt.ylabel('lgjen')"
   ]
  },
  {
   "cell_type": "markdown",
   "metadata": {},
   "source": [
    "I det siste oppgavedelen har vi sett en simulering av hypergeometriske variabler og deres gjennomsnitt vs. den foventningsverdi. I forelesning har vi sagt at foventningsverdi til en hypergeometrisk fordelt variablen $X$ med populasjon $n$, $r$ trekk og en delmengen $D$ av størrelse $m$ er gitt som \n",
    "$$\\mathbb{E}(X) = r\\frac{m}{N}$$\n",
    "\n",
    "I denne oppgaven skal dere bruke linearitet av forventningsverdien til å bevise påstanden. For dette gjør det følgende\n",
    "Skriv $X = X_1 + X_2 + X_3 + \\cdots + X_r$ for tilfeldige variabler $X_i$ som tar verdien $1$ når vi trekker noe fra mengden $D$ i den $i$te steg av forsøket, eller $0$ hvis vi trekker fra mengden $\\overline{D}$.\n",
    "\n",
    "(b) Begrunn at $\\mathbb{E}(X_i) = \\frac{m}{n}$ gjelder for hver $i$.\n",
    "\n",
    "Tip: Dette er sant selv om vi ikke legger tilbake noe etter hver forsøk (sammenlikn med bionomialforsøk). Det er ikke hensiktsmessig å regne mye har, tenk på situasjonen når du trekker røde og blåe kuler fra en pose (uten tilbakkelegging). Argumenter hvorfor sannsynligheten å få $X_i = 1$ er hver gang $m/n$ (ses kontraintuitivt ut men tenk på den måten: Du trekker fra posen og ser ikke på de første $i-1$ ting du trekker. Hva kan du si om sannsynligheten for den $i$te?"
   ]
  },
  {
   "cell_type": "markdown",
   "metadata": {},
   "source": [
    "**Plass for dine notater, dobbeltklikk for å skrive noe**"
   ]
  },
  {
   "cell_type": "markdown",
   "metadata": {},
   "source": [
    "(c) Bruk linearitet for å vise at $\\mathbb{E}(X) = r \\frac{m}{n}$"
   ]
  },
  {
   "cell_type": "markdown",
   "metadata": {},
   "source": [
    "**Plass for dine notater, dobbeltklikk for å skrive noe**"
   ]
  }
 ],
 "metadata": {
  "kernelspec": {
   "display_name": "Python 3",
   "language": "python",
   "name": "python3"
  },
  "language_info": {
   "codemirror_mode": {
    "name": "ipython",
    "version": 3
   },
   "file_extension": ".py",
   "mimetype": "text/x-python",
   "name": "python",
   "nbconvert_exporter": "python",
   "pygments_lexer": "ipython3",
   "version": "3.7.4"
  }
 },
 "nbformat": 4,
 "nbformat_minor": 2
}
