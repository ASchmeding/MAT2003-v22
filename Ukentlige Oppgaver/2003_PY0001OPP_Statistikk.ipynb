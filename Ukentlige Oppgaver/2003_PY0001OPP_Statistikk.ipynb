{
 "cells": [
  {
   "cell_type": "markdown",
   "metadata": {},
   "source": [
    "# Oppgaver (Python og statistikk)\n",
    "\n",
    "I JuPyter notater finner dere de oppgaver for Uke 1. Vi forventer at dere besvarer oppgavene i notatoka og laster opp utfyllt notatbok i Canvas (sjekk Canvas for innleveringsfrist, oppgaver for første uke leveres **Fredag 14.01. kl. 15.00**)\n",
    "\n",
    "Første oppgave, sett inn koden i cellen under for å få Python å skrive ut ditt navn: "
   ]
  },
  {
   "cell_type": "code",
   "execution_count": null,
   "metadata": {},
   "outputs": [],
   "source": [
    "#Skriv koden din under og kjør den ved å trykke SHIFT + ENTER"
   ]
  },
  {
   "cell_type": "markdown",
   "metadata": {},
   "source": [
    "## Oppgave 1\n",
    "\n",
    "(a) Lag en liste $L$ med $10$ ulike tall og skriv ut (ved bruk av Python kommando) den tredje og åtte element fra listen. \n",
    "\n",
    "*Tips:* Det fins en JuPyter notat i Canvas som bryr seg om lister..."
   ]
  },
  {
   "cell_type": "code",
   "execution_count": null,
   "metadata": {},
   "outputs": [],
   "source": [
    "#Skriv koden din under og kjør den ved å trykke SHIFT + ENTER"
   ]
  },
  {
   "cell_type": "markdown",
   "metadata": {},
   "source": [
    "(b) Legg til et element i listen $L$, og slett det fjerde elementet i listen."
   ]
  },
  {
   "cell_type": "code",
   "execution_count": null,
   "metadata": {},
   "outputs": [],
   "source": [
    "#Skriv koden din under og kjør den ved å trykke SHIFT + ENTER"
   ]
  },
  {
   "cell_type": "markdown",
   "metadata": {},
   "source": [
    "(c) Søk opp og les [numpy dokumentasjon](https://numpy.org/doc/stable/reference/index.html) om funksjonene *sum*, *mean* og *max* fra biblioteket *numpy*. Deretter bruk dem på listen $L$ og skriv ut resultatene.\n",
    "\n",
    "Tipps: \n",
    "1. Før du kan bruke dem må du laste inn biblioteket ved bruk av <code>import</code> kommando.\n",
    "2. Etter du har importert numpy kan du også bruke <code>?kommandonavn</code> for å finne ut mer om en funksjon (i den fall måtte funksjonen hete kommandonavn). Ofte har disse informasjonssider for mye informasjon, men det fins også på fleste av dem noen eksempel hvordan man bruker de (fins helt på slutt av side!). "
   ]
  },
  {
   "cell_type": "code",
   "execution_count": null,
   "metadata": {},
   "outputs": [],
   "source": [
    "#Skriv koden din under og kjør den ved å trykke SHIFT + ENTER"
   ]
  },
  {
   "cell_type": "markdown",
   "metadata": {},
   "source": [
    "## Oppgave 2\n",
    "\n",
    "Vi ser igjen på en kodesnutte fra forelesning. Se på følgende og prøv å forklare hva koden gjør **FØR** du kjører den. Sjekk hvis det viser hva du hadde tenkt ved å kjøre koden.\n",
    "\n",
    "a) Bruk kommentarfunksjon i Python <code>#</code> for å kommentere koden under linje for linje med forklaringer hva den linjen gjør"
   ]
  },
  {
   "cell_type": "code",
   "execution_count": null,
   "metadata": {},
   "outputs": [],
   "source": [
    "from matplotlib import pyplot\n",
    "\n",
    "x = [\"Volvo\",\"BMW\",\"Opel\",\"Ford\",\"Tesla\",\"Nissan\"]\n",
    "y = [1,3,6,7,6,9]\n",
    "pyplot.bar(x,y)\n",
    "pyplot.xlabel(\"Merke\")\n",
    "pyplot.ylabel(\"Antall\")\n",
    "pyplot.show()"
   ]
  },
  {
   "cell_type": "markdown",
   "metadata": {},
   "source": [
    "Legg merke til at linje 3 og 4 på en måte viser en frekvenstabell som programmet benytter seg av for å lage et diagram.\n",
    "\n",
    "b) Legg til bilmerket «Hyundai» til listen $x$ som skal ha en frekvens på 4, og lag et nytt diagram."
   ]
  },
  {
   "cell_type": "code",
   "execution_count": null,
   "metadata": {},
   "outputs": [],
   "source": [
    "#Skriv koden din under og kjør den ved å trykke SHIFT + ENTER"
   ]
  },
  {
   "attachments": {
    "image-7.png": {
     "image/png": "[encoded data removed]"
    }
   },
   "cell_type": "markdown",
   "metadata": {},
   "source": [
    "c) Lag et diagram som viser oversikt over karakterer i denne klassen: \n",
    "![image-7.png](attachment:image-7.png)"
   ]
  },
  {
   "cell_type": "code",
   "execution_count": null,
   "metadata": {},
   "outputs": [],
   "source": [
    "#Skriv koden din under og kjør den ved å trykke SHIFT + ENTER"
   ]
  },
  {
   "cell_type": "markdown",
   "metadata": {},
   "source": [
    "d) Lag en kode som genererer en ny liste som viser alle observasjonene i klassen (dvs. hvis karakter 5 fins 3 ganger skal vi ha 5 tre ganger i den listen du lager). Skriv ut denne listen til skjermen."
   ]
  },
  {
   "cell_type": "code",
   "execution_count": null,
   "metadata": {},
   "outputs": [],
   "source": [
    "#Skriv koden din under og kjør den ved å trykke SHIFT + ENTER"
   ]
  },
  {
   "cell_type": "markdown",
   "metadata": {},
   "source": [
    "e) Bruk biblioteket «statistics» og finn gjennomsnitt, median og typetall.\n",
    "\n",
    "Tipps: [Informasjon om Statistics pakke](https://docs.python.org/3/library/statistics.html)"
   ]
  },
  {
   "cell_type": "code",
   "execution_count": null,
   "metadata": {},
   "outputs": [],
   "source": [
    "#Skriv koden din under og kjør den ved å trykke SHIFT + ENTER"
   ]
  },
  {
   "cell_type": "markdown",
   "metadata": {},
   "source": [
    "## Oppgave 3\n",
    "\n",
    "I Levanger fikk elever følgende karakterer i matematikk:"
   ]
  },
  {
   "cell_type": "markdown",
   "metadata": {},
   "source": [
    "4, 2, 4, 4, 4, 2, 5, 1, 5, 4, 5, 4, 2, 5, 6, 5, 3, 3, 2, 2, 4, \n",
    "3, 1, 4, 4, 5, 3, 1, 1, 4, 2, 3, 5, 2, 4, 1, 6, 2, 4, 6, 4, 4, \n",
    "4, 4, 5, 5, 2, 3, 4, 5, 3, 3, 5, 3, 3, 4, 2, 4, 5, 5, 5, 3, 3, \n",
    "3, 4, 6, 4, 3, 3, 4, 3, 2, 5, 1, 3, 5, 2, 4, 3, 4, 4, 1, 3, 5, \n",
    "4, 5, 5, 6, 2, 3, 3, 6, 4, 3, 3, 2, 2, 4, 2, 5, 3, 4, 3, 5, 1, \n",
    "3, 3, 5, 3, 3, 5, 2, 2, 1, 3, 6, 4, 5, 2, 4, 3, 4, 3, 1, 3, 1, \n",
    "6, 2, 4, 3, 2, 4, 3, 2, 5, 5, 4, 2, 4, 1, 6, 3, 3, 2, 1, 2, 2, \n",
    "1, 3, 1, 2, 2, 3, 6, 4, 5, 4, 2, 5, 4, 3, 3, 5, 4, 4, 1, 6, 5, \n",
    "4, 1, 2, 5, 2, 4, 5, 2, 3, 6, 4, 6, 2, 4, 3, 4, 4, 5, 2, 2, 4, \n",
    "4, 4, 4, 5, 4, 5, 5, 6, 2, 1, 6, 4, 4, 3, 3, 1, 4, 3, 5, 5, 6, \n",
    "3, 4, 4, 3, 4, 4, 4, 2, 3, 2, 2, 1, 2, 2, 4, 5, 2, 2, 3, 5, 4, \n",
    "5, 4, 4, 3, 4, 4, 6, 5, 6, 4, 5, 3, 1, 3, 4, 6, 4, 1, 4, 4, 3, \n",
    "2, 2, 5, 4, 2, 1, 3, 4, 2, 1, 3, 5, 6, 4, 5, 3, 3, 5, 2, 2, 3, \n",
    "2, 2, 3, 2, 5, 5, 4, 2, 6, 3, 2, 3, 5, 5, 3, 5, 6, 2, 1, 1, 5, \n",
    "3, 4, 5, 2, 3, 3, 3, 3, 6, 3, 1, 4, 4, 4, 4, 3, 4, 4, 6, 6, 6, \n",
    "2, 3, 1, 4, 6, 5, 2, 1, 5, 4, 5, 6, 4, 6, 2, 4, 2, 2, 4, 3, 2, \n",
    "5, 4, 5, 2, 3, 2, 3, 2, 5, 6, 3, 5, 3, 5, 1, 2, 3, 4, 2, 5, 5, \n",
    "4, 2, 5, 3, 3, 3, 3, 3, 3, 6, 4, 5, 4, 1, 4, 4, 4, 5, 4, 3, 3, \n",
    "1, 3, 3, 3, 5, 5, 4, 5, 2, 5, 3, 1, 3, 3"
   ]
  },
  {
   "cell_type": "markdown",
   "metadata": {},
   "source": [
    "Bruk Python, og svar på følgende spørsmål\n",
    "\n",
    "a) Hvor mange elever fikk karakter?"
   ]
  },
  {
   "cell_type": "code",
   "execution_count": null,
   "metadata": {},
   "outputs": [],
   "source": [
    "#Skriv ditt kode under og trykk på SHIFT + ENTER for å kjøre"
   ]
  },
  {
   "cell_type": "markdown",
   "metadata": {},
   "source": [
    "b) Finn gjennomsnittskarakter, median, typetall og variasjonsbredde. Tipps: [Informasjon om Statistics pakke](https://docs.python.org/3/library/statistics.html)"
   ]
  },
  {
   "cell_type": "code",
   "execution_count": null,
   "metadata": {},
   "outputs": [],
   "source": [
    "#Skriv ditt kode under og trykk på SHIFT + ENTER for å kjøre"
   ]
  },
  {
   "cell_type": "markdown",
   "metadata": {},
   "source": [
    "c) Få programmet ditt til å lage en frekvenstabell av data."
   ]
  },
  {
   "cell_type": "code",
   "execution_count": null,
   "metadata": {},
   "outputs": [],
   "source": [
    "#Skriv ditt kode under og trykk på SHIFT + ENTER for å kjøre"
   ]
  },
  {
   "cell_type": "markdown",
   "metadata": {},
   "source": [
    "d) Bruk «pyplot», og lag et diagram som viser karakterfordelingen. Merk: Du trenger å finne ut først hvor mange karakter det fins av en type i listen."
   ]
  },
  {
   "cell_type": "code",
   "execution_count": null,
   "metadata": {},
   "outputs": [],
   "source": [
    "#Skriv koden din under og kjør den ved å trykke SHIFT + ENTER"
   ]
  }
 ],
 "metadata": {
  "kernelspec": {
   "display_name": "Python 3",
   "language": "python",
   "name": "python3"
  },
  "language_info": {
   "codemirror_mode": {
    "name": "ipython",
    "version": 3
   },
   "file_extension": ".py",
   "mimetype": "text/x-python",
   "name": "python",
   "nbconvert_exporter": "python",
   "pygments_lexer": "ipython3",
   "version": "3.7.4"
  }
 },
 "nbformat": 4,
 "nbformat_minor": 2
}
