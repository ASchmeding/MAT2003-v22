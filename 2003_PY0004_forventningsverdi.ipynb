{
 "cells": [
  {
   "cell_type": "markdown",
   "metadata": {},
   "source": [
    "# Forventningsverdi\n",
    "\n",
    "\n",
    "**Forventningsveri** er et sentralt begrep i sannsynlighetsteori. Det er et mål på \"langtidsgjennomsnittet\" av en tilfeldig variabel (eller tilfeldig prosess).\n",
    "\n",
    "Det er mange områder der forventningsverdi brukes, og det er vanskelig å gi en omfattende liste. Den brukes i en rekke beregninger av naturvitere, datavitere, statistikere, investorer, økonomer, finansinstitusjoner og profesjonelle gamblere, for bare å nevne noen.\n",
    "\n",
    "\n",
    "Forventningsverdi er nært knyttet til begrepet *gjennomsnitt* vi har lært om i statistikk. Vi skal utforske begrepet nå. For dette la oss begynne med et eksempel."
   ]
  },
  {
   "cell_type": "markdown",
   "metadata": {},
   "source": [
    "## Innledning og først eksempel\n",
    "\n",
    "La oss si at du jobber for et amerikansk selskap som betaler deg en fast lønn på $\\$ 7500 $ hver måned. Når det gjelder daglige utgifter, bruker du nøyaktig $\\$ 2500$ totalt hver måned, og du setter resten på din personlige bankkonto. Si også at du starter med nøyaktig $\\$ 0$ på kontoen din 1. januar. Hvor mye penger forventer du å ha innen 1. januar året etter (dvs. 12 måneder senere)?"
   ]
  },
  {
   "cell_type": "code",
   "execution_count": null,
   "metadata": {},
   "outputs": [],
   "source": [
    "#La Python regne for deg..."
   ]
  },
  {
   "cell_type": "markdown",
   "metadata": {},
   "source": [
    "La oss nå endre eksemplet litt. Dine månedlige kostnader og lønn er fortsatt de samme, men du mottar også variabel månedlig bonus. Disse bonusene avhenger av flere markedsfaktorer som er utenfor din kontroll. Mangelen på kontroll og usikkerhet betyr at det endelige beløpet du mottar ikke lenger er deterministisk, men er avhengig av tilfeldighet, dvs. vi må regne med begrep fra sannsynlighetsregning. \n",
    "\n",
    "For å forenkle saken, la oss antar at din månedlig bonus hver måned er ikke avhengig av måneder før og du har følgende sjanser for å få utbetalt:\n",
    "\n",
    "- $\\$ 1000$ med sannsynlighet $0.6$\n",
    "- $\\$ 500$ med sannsynlighet $0.3$, og\n",
    "- $\\$ 0$ med sannsynlighet $0.1$\n",
    "\n",
    "La oss nå stille det samme spørsmålet igjen: \n",
    "*hvor mye forventer du å ha på kontoen din etter 12 måneders arbeid?*\n",
    "\n",
    "Du vet at du helt sikkert får $\\$ 60$ tusen fra den faste lønnen (etter å ha trukket fra de månedlige utgiftene dine). På toppen av det vil du legge til et usikkert beløp fra bonusene. Men hvor mye?\n",
    "\n",
    "**Oppgave** Diskuter noen minutter i gruppene: Hva kan du si i situasjonen? Hva mener dere er sannsynlig at dere får som bonus (Gjerne beregn noen sannsynligheter)? Kan dere forvente en minimal bonus?"
   ]
  },
  {
   "cell_type": "markdown",
   "metadata": {},
   "source": [
    "**Plass for dine notater**"
   ]
  },
  {
   "cell_type": "code",
   "execution_count": null,
   "metadata": {},
   "outputs": [],
   "source": [
    "#Du kan bruke cellen her hvis du må regne noe og vil at Python hjelper"
   ]
  },
  {
   "cell_type": "markdown",
   "metadata": {},
   "source": [
    "Det vi kan spørre nå etter vi har sett på saken er: Fins det noen verdi vi kan forvente å få som bonus etter ett år på jobb?"
   ]
  },
  {
   "cell_type": "markdown",
   "metadata": {},
   "source": [
    "## Forventningsverdi\n",
    "\n",
    "I denne delen skal vi se den formelle definisjonen av forventningsverdi og hvordan man faktisk beregner den. Jeg skal også gi deg litt intuisjon om det ved å vise dets forhold til det gjennomsnittet.\n",
    "\n",
    "La oss starte med eksemplet fra siste avsnitt og svare på de spørsmål fra slutten av forrige avsnitt. Først la oss beregne forventningsverdien uten for mye forklaring, og se på detaljene etterpå.\n",
    "\n",
    "For å nedbryte oppgaven litt, la oss beregne først den forventede bonusen per måned. Det gjør man ved å multiplisere hver mulig verdi som fins som bonus med dens respektive sannsynlighet og legge til produktene.\n",
    "\n",
    "Siden vi får $\\$ 1000$ med sannsynlighet $0.6$, $\\$ 500$ med sannsynlighet $0.3$, og $\\$ 0$ med sannsynlighet $0.1$ får vi som **forvented bonus**:\n",
    "\n",
    "$$\\$ 1000 \\cdot 0.6 + \\$ 500 \\cdot 0.3 + \\$ 0 \\cdot 0.1 = \\$ 600 + \\$ 150 = \\$ 750$$"
   ]
  },
  {
   "cell_type": "markdown",
   "metadata": {},
   "source": [
    "**Spørsmål** Den forvented bonus for en måned er $\\$ 750$, hvordan beregner vi nå den forvented bonus for ett år?"
   ]
  },
  {
   "cell_type": "code",
   "execution_count": null,
   "metadata": {},
   "outputs": [],
   "source": [
    "#Plass for ditt svar, la Python regne for deg"
   ]
  },
  {
   "cell_type": "markdown",
   "metadata": {},
   "source": [
    "# Definisjon av forventningsverdi\n",
    "\n",
    "Før vi definerer forventningsverdi la oss minne om forskjellen mellom *deterministiske* og *tilfeldige variabler*.'\n",
    "\n",
    "En **deterministisk variabel** er en variabel med bare én mulig fast verdi til enhver tid.\n",
    "\n",
    "--- \n",
    "**Eksempel** \n",
    "Din nåværende alder en deterministisk variabel. For å finne verdien trenger vi bare trekke fra fødselsdatoen din fra gjeldende dato (og eventuelt konvertere fra dager til år). Uansett hvor mange ganger du utfører denne målingen, vil du alltid få det samme resultatet. Med andre ord er alderen din en fast verdi (til ethvert bestemt tidspunkt).\n",
    "\n",
    "---\n",
    "\n",
    "\n",
    "En **tilfeldig variabel** har derimot mer enn én mulig verdi. Når den måles, vil variabelen ta en av disse verdiene tilfeldig, hver med en viss sannsynlighet. \n",
    "\n",
    "---\n",
    "**Eksempel**\n",
    "For eksempel er siden som en mynt lander på en tilfeldig variabel med to mulige verdier: krone og mynt, hver med en sannsynlighet på $0,5$. \n",
    "\n",
    "---\n",
    "\n",
    "Generellt ser vi nå på tilfeldige variabler $X$ som kan ha en endelig antall $N$ av mulige utfall. Vi skriver for disse verdier\n",
    "$$v_1 , v_2, v_3 , \\ldots , v_N, \\text{ hvor } N \\in \\mathbb{N}$$\n",
    "La oss skrive de sannsynligehetene for disse verdier som \n",
    "$$P(X = v_1), P(X= v_2), P(X=v_3), \\ldots, P(X= v_N).$$\n",
    "I andre ord, at den tilfeldige variabel $X$ tar verdien $v_1$ er $P(X= v_1)$. Husk at vi må ha \n",
    "$$P(X = v_1 ) + P(X=v_2) + \\cdots + P(X = v_N) = 1.$$"
   ]
  },
  {
   "cell_type": "markdown",
   "metadata": {},
   "source": [
    "Vi kan nå gi en (formell) definisjon av forventningsverdi til en tilfeldig variabel $X$. **Forventingsverdien** defineres som\n",
    "$$\\mathbb{E}(X) = v_1 \\cdot  P(X=v_1) + v_2\\cdot P(X=v_1) + \\cdots + v_N \\cdot P(X=v_N).$$\n",
    "(Vi bruker symbolet $\\mathbb{E}$ for forventingsverdi siden på engelsk heter forventningsverdi *expectation* eller *expected value*. Det er vanlig å bruke $\\mathbb{E}$ eller $E$ som en forkortning av det.) "
   ]
  },
  {
   "cell_type": "markdown",
   "metadata": {},
   "source": [
    "**Oppgave 1** Se på formelen for forventningsverdien. Forklar\n",
    "1. hvilke tall i eksemplet om forvented bonusbetaling fra den siste avsnitt tilsvarer $v_i$ og hvilke $P(X=v_i)$.\n",
    "2. hvorfor den formelen vi har brukt for å beregne forvented månedlig bonus er en spesialfall av den allmen definisjon av forventningsverdien."
   ]
  },
  {
   "cell_type": "markdown",
   "metadata": {},
   "source": [
    "**Plass for dine svar og notater, dobbeltklikk her for å skrive noe**"
   ]
  },
  {
   "cell_type": "markdown",
   "metadata": {},
   "source": [
    "### Litt matematisk notasjon: summetegn $\\Sigma$\n",
    "\n",
    "Det er ofte litt tungvint å skrive summene som vi skal se ofte nå i utregninger av forventningsverdier uten en bedre matematisk notasjon. For dette fins det så kallte *summetegn* som brukes den greske bokstaven stor Sigma for å skrive en summe mer kompakt. For eksempel kan vi skrive\n",
    "\n",
    "$$x_1 + x_2 + \\cdots x_N = \\sum_{n=1}^N x_n$$\n",
    "\n",
    "På venstre side av ligningen blir $N$ antall verdier som adderes. Verdiene er uttrykt som variabelen $x$ med et subskript. Subskriptet indikerer indeksen til elementet i sekvensen.\n",
    "\n",
    "På høyre side har vi samme sum uttrykt med sumoperatoren. Den består av $4$ deler:\n",
    "- $\\Sigma$-symbolet, som indikerer en sumoperasjon\n",
    "- $n = 1$, som indikerer at indeksen (som heter $n$) starter fra $1$\n",
    "- $N$, som indikerer at indeksen går opp til og med $N$\n",
    "- $x_n$, som er det faktiske addisjonsleddet\n",
    "\n",
    "Indeksen økes med $1$ for hver iterasjon (for hvert ledd i summen). I stedet for $x_n$ kan du ha et vilkårlig komplekst uttrykk som består av termer (valgfritt) indeksert med $n$. For mer informasjon viser vi til en liten [Youtube video](https://youtu.be/mDy8L62745k).\n",
    "\n",
    "---\n",
    "**Eksempel (Forventningsverdi)**\n",
    "Ved hjelp av summetegn kan vi utrykke forventningsverdien for en tilfeldig variabel $X$ med verdier $v_1,\\ldots, v_N$ som \n",
    "\n",
    "$$\\mathbb{E}(X) = \\sum_{n=1}^N v_n P(X=v_n).$$\n",
    "\n",
    "For å skrive det igjen eksplisit: Hvis $X$ tar tre verdier $v_1,v_2, v_3$ er $N=3$ og forventningsverdien av $X$ er gitt som $\\mathbb{E}(X)= v_1P(X=v_1)+v_2P(X=v_2)+v_3P(X=v_3)$\n",
    "\n",
    "---"
   ]
  },
  {
   "cell_type": "markdown",
   "metadata": {},
   "source": [
    "# Eksempler og simulasjon\n",
    "\n",
    "Vi skal overbevise oss om at den forventningsverdien faktisk er et tall som bør \"forventes\". La oss bekrefte dette med noen eksperimentelle simuleringer.\n",
    "\n",
    "Først og framst ser vi igjen på bonus-lønn-eksemplet vi startet med. Husk at vi beregnet bonusens forventede verdi for $1$ måned til å være $\\$ 750$. La oss se om det virkelig er tilfelle.\n",
    "\n",
    "For dette skal vi lage først den tilfeldige variabel $Bonus=$bonusbetaling i en måned. \n",
    "\n",
    "**Oppgave** Se på kode under og forklar hva skjer. Kommenter koden linje for linje og forklar hva den gjør. Hvorfor kommer vilkår <code> if tilfeldig <=0.6</code> først? Kunne vi også har tatt sjansen for $0$ bonus først?"
   ]
  },
  {
   "cell_type": "code",
   "execution_count": null,
   "metadata": {},
   "outputs": [],
   "source": [
    "import random as rd #trenger random biblioteket siden B er tilfeldig\n",
    "\n",
    "def Bonus (): #Definer en funksjon Bonus i Python. \n",
    "        #------------ Funksjonsdokumentatsjon ----------------------\n",
    "        # Funksjon Bonus simulerer en tilfeldig variabel og beregner\n",
    "        #bonus i en måned\n",
    "        # Inndata:  Ingenting\n",
    "        # Utdata:   Et tall\n",
    "        #------------ Slutt av Funksjonsdokumentatsjon -------------\n",
    "        tilfeldig=rd.random()\n",
    "        if tilfeldig <=0.6:\n",
    "            return 1000\n",
    "        elif (tilfeldig > 0.6) and (tilfeldig <=0.9):\n",
    "            return 500\n",
    "        else:\n",
    "            return 0    "
   ]
  },
  {
   "cell_type": "code",
   "execution_count": null,
   "metadata": {},
   "outputs": [],
   "source": [
    "#Her kan dere teste hva bonus gjør\n",
    "Bonus()"
   ]
  },
  {
   "cell_type": "markdown",
   "metadata": {},
   "source": [
    "Ved hjelp av <code>Bonus</code> kan vi generere noen tilfeldige verdier av bonusbetalingen. Disse bruker vi for å utregne den \n",
    "\n",
    "**løpende gjennomsnitt** over noen måneder, dvs. vi beregner for hver måned gjennomsnitt av alle bonusbetalinger vi har fått så lenge. I formler har vi for den løpende gjennomsnitt etter $k$-måneder \n",
    "$$\\text{lgjennom} = \\frac{1}{k}\\sum_{n=1}^k \\text{bonus i måned } n$$   \n",
    "La oss programmere det i Python nå. Se op koden og prøv å svare på spørsmålene som står i kommentarene:"
   ]
  },
  {
   "cell_type": "code",
   "execution_count": null,
   "metadata": {},
   "outputs": [],
   "source": [
    "ant_mdr = 50                  #Skal simulere for 50 måneder\n",
    "lgjennom = [Bonus()]          #Vi lager en liste lgjennom for den\n",
    "                              #løpende gjennomsnitt og setter den \n",
    "                              #første verdi til Bonus(). Hvorfor?\n",
    "for n in range(1,ant_mdr):    #Her trenger vi å begynne med 1. Hvorfor?\n",
    "    #Forklar hvorfor den følgende formel beregner den riktige løpende\n",
    "    #gjennomsnitt\n",
    "    #Tip: Lag noen eksempler av formelen på papir og se på linje 10!\n",
    "    ny_gjennomsnitt = (Bonus()+lgjennom[n-1]*(n-1))/n\n",
    "    lgjennom.append(ny_gjennomsnitt)    #Legg til ny gjennomsnitt \n",
    "    \n",
    "# print(lgjennom) #Ta vekk kommentarsymbol om du vil se på resultatet "
   ]
  },
  {
   "cell_type": "markdown",
   "metadata": {},
   "source": [
    "Vitsen med løpende gjennomsnitt er at vi kan sammenlikne det nå med den forventningsverdi vi har lagd. Den neste kodeblokk skriver ut resultatet i en graf."
   ]
  },
  {
   "cell_type": "code",
   "execution_count": null,
   "metadata": {},
   "outputs": [],
   "source": [
    "# Importer nødvendige moduler for plotting\n",
    "%matplotlib inline \n",
    "from numpy import *               \n",
    "from matplotlib.pyplot import *   \n",
    "newparams = {'axes.grid': True,\n",
    "             'lines.markersize': 8, 'lines.linewidth': 2,\n",
    "             'font.size': 16}\n",
    "rcParams.update(newparams)\n",
    "x = range(1,ant_mdr+1)      # Lager 'x-aksen' \n",
    "forvented = [750]*(ant_mdr) #Lager en liste med riktig antall\n",
    "                            #av forventningsverdi (gjenta 750)\n",
    "plot(x, forvented, 'r--')         # Plott forvented, rød stiplet kurve\n",
    "plot(x, lgjennom, 'b-')           # Plott løpende gjennomsnitt,\n",
    "                                  # blå heltrukken kurve \n",
    "xlabel('måneder')\n",
    "ylabel('bonus')\n",
    "title('Plott av løpende gjennomsnitt vs forventningsverdi')\n",
    "legend(['forventningsverdi', 'løpende gjennomsnitt']);"
   ]
  },
  {
   "cell_type": "markdown",
   "metadata": {},
   "source": [
    "Vi kan også kjøre simulasjonen mye lengre og se på det som skjer med løpende gjennomsnitt og forventningsverdi. For eksempel, la oss antar at du jobber for $10$år."
   ]
  },
  {
   "cell_type": "code",
   "execution_count": null,
   "metadata": {},
   "outputs": [],
   "source": [
    "ant_mdr=120    #simuler nå 10 år, dvs. 120 måneder\n",
    "#Først lag liste medforventningsverdi og løpende gjennomsnitt\n",
    "forvented= [750]*(ant_mdr)\n",
    "lgjennom = [Bonus()]          \n",
    "for n in range(1,ant_mdr):    \n",
    "    ny_gjennomsnitt = (Bonus()+lgjennom[n-1]*(n-1))/n\n",
    "    lgjennom.append(ny_gjennomsnitt)\n",
    "x = range(1,ant_mdr+1)\n",
    "plot(x, forvented, 'r--')         # Plott forvented, rød stiplet kurve\n",
    "plot(x, lgjennom, 'b-')\n",
    "xlabel('måneder')\n",
    "ylabel('bonus')\n",
    "title('Plott av løpende gjennomsnitt vs forventningsverdi, 120 måneder')\n",
    "legend(['forventningsverdi', 'løpende gjennomsnitt']);"
   ]
  },
  {
   "cell_type": "markdown",
   "metadata": {},
   "source": [
    "Med økende antall måneder, legg merke til hvordan det løpende gjennomsnittet avviker mindre og mindre fra forventningsverdi!\n",
    "\n",
    "**Oppgave** Vi lager en tilfeldig variabel $T$ som gir oss verdiene til en terningskast, dvs. $T$ tar verdiene $1,2,3,4,5,6$ hver med sannsynlighet $\\frac{1}{6}$. \n",
    "1. Beregn forventningsverdi til $T$.\n",
    "2. Hvis vi tolker forventningsverdien du har beregnet til $T$ som den gjennomsnittlige verdien vi får om vi kaster en terning mange ganger, hva overraskende hvis du sammenlikner forventningsverdi med antall av øyene du kan får ved en terningskast?"
   ]
  },
  {
   "cell_type": "code",
   "execution_count": null,
   "metadata": {},
   "outputs": [],
   "source": [
    "#Plass for dine svar (har brukt en Python celle her fordi\n",
    "#det kunne være hensiktsmessig å beregne forventningsverdi ved hjelp\n",
    "#av Python som kalkulator)"
   ]
  },
  {
   "cell_type": "markdown",
   "metadata": {},
   "source": [
    "### Eksempel: Myntkast\n",
    "\n",
    "Vi knipser mynt og hvis jeg får kron gi du meg $2$kr og hvis jeg får mynt får du $1$kr. La oss lage en tilfeldig variabel $G$ som gjenspeiler gevinst til deg. For å modellere situasjonen som en tilfeldig variabel må vi tenke om hvilke verdier variablen kan ta:\n",
    "\n",
    "- Siden du får $1$kr når jeg får mynt, må vi ha $G(\\text{viser mynt}) = 1$\n",
    "- Siden jeg får $2$kr når jeg får kron, må vi ha $G(\\text{viser kron}) = -2$\n",
    "\n",
    "La oss antar nå at det er en fair mynt. \n",
    "\n",
    "**Spørsmål**: \n",
    "1. Hva er forventningsverdi til $G$? \n",
    "2. Hvor mange kroner forventer du å vinne (eller tape) hvis du spiller spillet $1000$ ganger?\n",
    "3. Ville du si at spillet er fair og skulle du delta i sjansespillet?"
   ]
  },
  {
   "cell_type": "code",
   "execution_count": null,
   "metadata": {},
   "outputs": [],
   "source": [
    "#Plass for ditt svar, du kan gjerne bruke Python for utregninger"
   ]
  },
  {
   "cell_type": "markdown",
   "metadata": {},
   "source": [
    "Man skulle se i utregninger at det spiller ingen roll at en av de verdier til den tilfeldige variablen $G$ er negativ den gangen (før har vi bare sett på situasjoner hvor alle verdier var positiv eller lik $0$)."
   ]
  },
  {
   "cell_type": "markdown",
   "metadata": {},
   "source": [
    "#### Simulasjon myntspillet\n",
    "\n",
    "La oss simulere nå myntspillet som du har beregnet over for å finne ut hvor mye penger vi tjener (eller taper) hvis vi spiller $1000$ ganger. Selvfølgelig er utviklingen forskjellig hver gang (avhengig av tilfeldighet). Det empiriske løpende gjennomsnittet svinger rundt forventningsverdi, noe som får de totale gevinstene til å svinge opp og ned. Men disse svingningene er lokale, og på lang sikt avviker observasjonene mindre og mindre fra forventningene."
   ]
  },
  {
   "cell_type": "code",
   "execution_count": null,
   "metadata": {
    "scrolled": true
   },
   "outputs": [],
   "source": [
    "def G ():\n",
    "    if random.random() <=0.5:\n",
    "        return(-2)\n",
    "    else:\n",
    "        return(1)\n",
    "gevinst = [G()]    \n",
    "for i in range(1,1000):\n",
    "    gevinst.append(G()+gevinst[i-1])\n",
    "x=range(1000)\n",
    "plot(x, gevinst, 'b-')\n",
    "xlabel('antall spill')\n",
    "ylabel('kumulert gevinst')\n",
    "title('Oppsummert gevinst (eller tap) av penger over 1000 myntspill')"
   ]
  },
  {
   "cell_type": "markdown",
   "metadata": {},
   "source": [
    "### Forventningsverdi til en binomisk fordelt variabel\n",
    "\n",
    "Vi skal se på et tilfeldig forsøk som har to utfall (f.eks. myntkast hvor vi tolker en utfall som suksess og den andre som tap). Som vi har lært kan vi beskrive den situasjonen med binomisk fordeling. \n",
    "\n",
    "Hvis sannsynlighet for å får suksess er $p$ er sannsynligheten for den motsatte hendelse $1-p$. Vi er interessert i forventningsverdi til en tilfeldig variabel $X$ som modellerer et binomisk forsøk med $n$ steg. Husk at sannsynlighet for å få akkurat $k$suksess ved $n$ forsøk er gitt som \n",
    "$$P(X=k) = \\binom{n}{k}p^k(1-p)^{n-k}.$$\n",
    "Dermed sier formelen for forventningsverdi at vi må beregne \n",
    "$$\\mathbb{E}(X) = \\sum_{k=0}^n k P(X=k) = \\sum_{k=0}^nk\\binom{n}{k}p^k(1-p)^{n-k} = np$$\n",
    "Det er nå helt uklart hvordan man kommer til den enkle formen av forventningsverdi som står på høyre (regning med summen og binomialkoeffisienter er vanskelig!). Det fins en enklere måte å finne forventningsverdi til $X$:\n",
    "\n",
    "#### Oppgave \n",
    "(a) Antar at $F$ er en tilfeldig variabel som tar to verdier $F(\\text{suksess}) = 1$ og $F(\\text{tap}) = 0$. Beregn forventningsverdi til $F$ (hvis suksess har sjansen $p$). "
   ]
  },
  {
   "cell_type": "markdown",
   "metadata": {},
   "source": [
    "**Plass for ditt svar, dobbeltklikk her for å skrive noe**"
   ]
  },
  {
   "cell_type": "markdown",
   "metadata": {},
   "source": [
    "Vi er egentlig interessert i forventningsverdi til variablen $X$ som beskriver et binomisk forsøk med $n$-steg (variablen $F$ fra (a) gir oss bare pågrep på forventningsverdi til et binomisk forsøk med $n=1$-steg).\n",
    "\n",
    "For å komme oss frem med saken, la oss introdusere de tilfeldige variabler\n",
    "$$F_i= \\begin{cases}\n",
    "  1 \\text{ hvis vi får en suksess i steg } i\\\\\n",
    "  0 \\text{ hvis steg } i \\text{ er ikke en suksess}\n",
    "  \\end{cases} \\text{for } i =1,2,\\ldots, n\n",
    "$$\n",
    "(b) Antar at vi bare ser på de tilfeldige variabler $F_1$ og $F_2$. Vi kan addere $V = F_1 + F_2$ og får en tilfeldig variabel. Beskriv i ord hva betydning av den nye variablen $V$ er. Deretter beregn forventningsverdi til $V$."
   ]
  },
  {
   "cell_type": "markdown",
   "metadata": {},
   "source": [
    "**Plass for ditt svar, dobbeltklikk her for å skrive noe**"
   ]
  },
  {
   "cell_type": "markdown",
   "metadata": {},
   "source": [
    "(c) Er det mulig å utrykke den tilfeldige variabel \n",
    "$$X= \\text{Antall av suksess i forsøket med }n\\text{-steg}$$ ved hjelp av de tilfeldige variabeler $F_i, i=1,\\ldots, n$?"
   ]
  },
  {
   "cell_type": "markdown",
   "metadata": {},
   "source": [
    "**Plass for ditt svar, dobbeltklikk her for å skrive noe**"
   ]
  },
  {
   "cell_type": "markdown",
   "metadata": {},
   "source": [
    "(d) Se på følgende utregning av forventningsverdi til $X$ og diskuter med hverandre hvorfor det gir mening og hva betydning til de steg er:  \n",
    "Tips: Vi bruker summetegn i formelen, hvis du er ikke vet hvordan man bruker den prøv å sette inn $\\sum_{i=1}^n F_i = F_1 + F_2 + \\cdots + F_n$.\n",
    "\n",
    "Steg 1. $$\\mathbb{E}(X) = \\mathbb{E}\\left(\\sum_{i=1}^n F_i \\right)$$  \n",
    "Steg 2. Siden $X$ er sammensatt av de tilfeldige variabler $F_i$ beskriver summen av forventningsverdier til de $F_i$ forventningsverdi til $X$, dvs. \n",
    "$$\\mathbb{E}(X) = \\mathbb{E}\\left(\\sum_{i=1}^n F_i \\right) = \\sum_{i=1}^n \\mathbb{E}(F_i)$$\n",
    "Steg 3. Med (a) får vi $\\mathbb{E}(X)= \\sum_{i=1}^n p = np$."
   ]
  },
  {
   "cell_type": "markdown",
   "metadata": {},
   "source": [
    "**Plass for ditt svar, dobbeltklikk her for å skrive noe**"
   ]
  },
  {
   "cell_type": "markdown",
   "metadata": {},
   "source": [
    "## Egenskaper til forventningsverdi\n",
    "\n",
    "I den utregning til den forventningsverdi av den binomisk fordelt tilfeldig variabel $X$ har vi lært at vi kan trekke ut summer fra forventningsverdien. Dette egenskap kaller man linearitet av forventningsverdien. Generell gjelder:  \n",
    "\n",
    "**Linearitet av forventningsverdi** Hvis $X$ og $Y$ er tilfeldige variabler så er $\\mathbb{E}(X+Y) = \\mathbb{E}(X) + \\mathbb{E}(Y)$ i tillegg hvis $r$ er et reelt tall, så gjelder $\\mathbb{E}(rX) = r\\mathbb{E}(X)$.  \n",
    "\n",
    "**Formell bevis at summene kan trekkes ut av forventningsverdi**\n",
    "$$\\begin{align*}\n",
    "\\mathbb{E}(X+Y) &= \\sum_a \\sum_b (a+b)P(X=a,Y=b) \\\\\n",
    "&=\\sum_a \\sum_b aP(X=a,Y=b) + \\sum_a \\sum_b bP(X=a,Y=b) \\\\\n",
    "&= \\sum_a a\\sum_b \\underbrace{P(X=a,Y=b)}_{= P(X=a)} + \\sum_b b\\sum_a \\underbrace{P(X=a,Y=b)}_{= P(Y=b)}\\\\\n",
    "&= \\sum_a a P(X=a) + \\sum_b b P(Y=b) \\\\\n",
    "&= \\mathbb{E}(X) + \\mathbb{E}(Y)\n",
    "\\end{align*}\n",
    "$$\n",
    "**Spørsmål:** Prøv å forstå beviset. Kan du lage noen liknende for å vise at forventningsverdi til $rX$ er lik $r\\mathbb{E}(X)$?"
   ]
  },
  {
   "cell_type": "markdown",
   "metadata": {},
   "source": [
    "#### Oppgave (Kast av to terninger)\n",
    "\n",
    "Vi kaster to terninger og ser på summen av de to terninger.\n",
    "(a) Lag noen tilfeldige variabler som kan brukes for å modellere situasjonen. \n",
    "(b) Hvordan kan vi beregne forventningsverdi til den tilfeldig forsøk?"
   ]
  },
  {
   "cell_type": "markdown",
   "metadata": {},
   "source": [
    "**Plass for ditt svar, dobbeltklikk her for å skrive noe**"
   ]
  },
  {
   "cell_type": "markdown",
   "metadata": {},
   "source": [
    "(c) Se på den måten vi lagde den tilfeldig variabel <code>Bonus()</code> i Python. Kopier fremgansmåten pg lag en tilfeldig variabel <code>terning</code> i Python som simulerer en terningskast og skriver ut resultatet av terningskast som verdi av den tilfeldige variablen. Hva er utfordringen hvis vi skal lage det inn i Python?"
   ]
  },
  {
   "cell_type": "code",
   "execution_count": null,
   "metadata": {},
   "outputs": [],
   "source": [
    "#Plass for dine svar. Husk at vi har importert random biblioteket\n",
    "#som rd og dermed kalles funksjoner  fra dette som rd.randint (f.eks.)"
   ]
  },
  {
   "cell_type": "markdown",
   "metadata": {},
   "source": [
    "(d) Forklar hvordan vi kan bruke den tilfeldig variabel <code>terning</code> fra (c) for å simulere terningskast av to (tre, fire,...) terninger og lage en forventningsverdi til summen av disse terninger (det er ikke nødvendig å lage en Python program for det men hvis dere klarer det er det kjempebra!)"
   ]
  },
  {
   "cell_type": "markdown",
   "metadata": {},
   "source": [
    "**Plass for ditt svar, dobbeltklikk her for å skrive noe**"
   ]
  },
  {
   "cell_type": "markdown",
   "metadata": {},
   "source": [
    "## Sammendrag\n",
    "\n",
    "Forventningsverdi av en tilfeldig variabel er det langsiktige gjennomsnittet av dens mulige verdier når verdier har blitt realisert et stort antall ganger. Hvis vi ville beregne den er det enkelt å gjøre som den summen av produktene av verdiene og deres sannsynligheter.\n",
    "\n",
    "Forventningsverdier er knyttet tett til den [store talls lov](https://snl.no/store_talls_lov) og vi kan forstår det som en bro mellom teoretiske forventninger og empiriske observasjoner. "
   ]
  },
  {
   "cell_type": "code",
   "execution_count": null,
   "metadata": {},
   "outputs": [],
   "source": []
  }
 ],
 "metadata": {
  "kernelspec": {
   "display_name": "Python 3",
   "language": "python",
   "name": "python3"
  },
  "language_info": {
   "codemirror_mode": {
    "name": "ipython",
    "version": 3
   },
   "file_extension": ".py",
   "mimetype": "text/x-python",
   "name": "python",
   "nbconvert_exporter": "python",
   "pygments_lexer": "ipython3",
   "version": "3.7.4"
  }
 },
 "nbformat": 4,
 "nbformat_minor": 2
}
