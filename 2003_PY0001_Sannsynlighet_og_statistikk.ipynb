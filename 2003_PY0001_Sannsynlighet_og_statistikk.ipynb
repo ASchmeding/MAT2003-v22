{
 "cells": [
  {
   "cell_type": "markdown",
   "metadata": {},
   "source": [
    "# Python og stokastikk og statistikk\n",
    "\n",
    "<Strong>Velkommen!</Strong> I dette notatboka skal vi se litt på hvordan vi kan bruke Python for utregninger knyttet til sannsynlighetsteori."
   ]
  },
  {
   "cell_type": "markdown",
   "metadata": {},
   "source": [
    "## Statistikk\n",
    "\n",
    "Mange av de konsepter som sentralmål og spredningsmål vi var interessert i statistikk i fins i pakken <code>statistics</code> (Se [Statistics pakke](https://docs.python.org/3/library/statistics.html)). Det er ofte ønskelig at vi også skriver ut tabell og grafer for å få en visuell intrykk av data. Funksjoner som kan det fins i <code>matplotlib.pyplot</code> pakke. Vi laster begge to inn nå:"
   ]
  },
  {
   "cell_type": "code",
   "execution_count": null,
   "metadata": {},
   "outputs": [],
   "source": [
    "import statistics as stat\n",
    "import matplotlib.pyplot as plt"
   ]
  },
  {
   "cell_type": "markdown",
   "metadata": {},
   "source": [
    "Den statistikk pakke har mange funksjoner vi trenger for å gjøre statistikk. Her er noen eksempler:"
   ]
  },
  {
   "cell_type": "code",
   "execution_count": null,
   "metadata": {},
   "outputs": [],
   "source": [
    "#trenger noen data for å jobbe med pakken\n",
    "data = [1,2,3,-2,-0.333,5]\n",
    "print(data)\n",
    "\n",
    "#gjennomsnitt kalles i Python 'mean' (som på engelsk)\n",
    "gjennom= stat.mean(data)\n",
    "print('Gjennomsnitt:', gjennom)\n",
    "\n",
    "#median\n",
    "median = stat.median(data)\n",
    "print('Median er ' , median)"
   ]
  },
  {
   "cell_type": "markdown",
   "metadata": {},
   "source": [
    "**Spørsmål:** Sammenlikn median med data vi har gitt. Hvorfor får vi resultatet?"
   ]
  },
  {
   "cell_type": "code",
   "execution_count": null,
   "metadata": {},
   "outputs": [],
   "source": [
    "?stat.median"
   ]
  },
  {
   "cell_type": "code",
   "execution_count": null,
   "metadata": {},
   "outputs": [],
   "source": [
    "#Spredningsmål kan også beregnes\n",
    "savvik     =stat.stdev(data)             #Standardavvik\n",
    "variasjon  =stat.variance(data)          #Variasjon\n",
    "print('standardavvik:', savvik, 'Variasjon:', variasjon)"
   ]
  },
  {
   "cell_type": "markdown",
   "metadata": {},
   "source": [
    "Vi skal bruke Python nå for å lage en typisk diagram som man ville kanskje se på i statistikk."
   ]
  },
  {
   "cell_type": "code",
   "execution_count": null,
   "metadata": {},
   "outputs": [],
   "source": [
    "x = [\"Volvo\",\"BMW\",\"Opel\",\"Ford\",\"Tesla\",\"Nissan\"]\n",
    "y = [1,3,6,7,6,9]\n",
    "plt.bar(x,y)\n",
    "plt.xlabel(\"Merke\")\n",
    "plt.ylabel(\"Antall\")\n",
    "plt.show()"
   ]
  },
  {
   "cell_type": "markdown",
   "metadata": {},
   "source": [
    "#### Oppgave\n",
    "\n",
    "Gå inn på yr.no-velg Levanger og langtidsvarsel. Lag en oversikt over forventet makstemperatur de neste 7 dagene.\n",
    "Tips: <code> x = ['dag' , 'dag', ...] y =[temp , temp, ...]</code>\n",
    "\n",
    "Du kan bruke et linjediagram <code>plt.plot</code> for å vise forventet utvikling over tid.\n",
    "Også lag nye $x$-label og $y$-label som passer."
   ]
  },
  {
   "cell_type": "code",
   "execution_count": null,
   "metadata": {},
   "outputs": [],
   "source": [
    "#Skriv din kode under her og husk å kjøre den ved trykk av SHIFT + ENTER"
   ]
  },
  {
   "cell_type": "markdown",
   "metadata": {},
   "source": [
    "## Stokastikk og sannsynlighet"
   ]
  },
  {
   "cell_type": "markdown",
   "metadata": {},
   "source": [
    "I sannsynlighetsteori bryr vi oss om tilfeldige hendelser og for dette trenger vi å generere noen tilfeldige tall. Det vanlige Python kan det ikke selv og vi må laste inn noen pakke som kan hantere tilfeldighet. Pakken heter <code>random</code> (se [Random pakke](https://docs.python.org/3/library/random.html) for mer informasjon) og vi laster det inn nå:"
   ]
  },
  {
   "cell_type": "code",
   "execution_count": null,
   "metadata": {},
   "outputs": [],
   "source": [
    "import random   #last inn pakke random som har sannsynlighetsfunksjoner  "
   ]
  },
  {
   "cell_type": "markdown",
   "metadata": {},
   "source": [
    "Merk at vi kan gjøre livet enklere hvis vi bruker istedet av <code>import</code> kommandoen\n",
    "```Python \n",
    "from random import *```\n",
    "siden vi kan deretter kalle alle funksjoner ved bruk av <code>funksjonsnavn</code> og ikke <code>random.funksjonsnavn</code>. Men vi skal ikke gjøre det nå for å synnliggjøre hvilke funksjoner kommer fra random pakken.\n",
    "\n",
    "### Randint()\n",
    "La oss kaste først en terning:"
   ]
  },
  {
   "cell_type": "code",
   "execution_count": null,
   "metadata": {},
   "outputs": [],
   "source": [
    "#Kast av en terning ved bruk av randint funksjonen \n",
    "terning = random.randint(1,6)\n",
    "print(terning)"
   ]
  },
  {
   "cell_type": "markdown",
   "metadata": {},
   "source": [
    "Funksjonen <code>randint(a,b)</code> genererer et tilfeldig tall mellom $a$ og $b$ (begge to inkludert). \n",
    "\n",
    "### Choice()\n",
    "\n",
    "<code>choice()</code> returnerer en tilfeldig verdi fra en liste med elementer (en liste er en av datatypene som fins i Python, vi har en jupyternotatbok om disse hvis du ønsker å finne ut mer). Praktisk dersom man trenger å trekke et tilfeldig kort fra en kortstokk f.eks."
   ]
  },
  {
   "cell_type": "code",
   "execution_count": null,
   "metadata": {},
   "outputs": [],
   "source": [
    "farger= ['Hjerter','Ruter','Kløver','Spar']\n",
    "farge = random.choice(farger)\n",
    "verdi = random.randint(1,13)\n",
    "print(\"Kort: \", farge , \" \", verdi)"
   ]
  },
  {
   "cell_type": "markdown",
   "metadata": {},
   "source": [
    "### shuffle()\n",
    "Dersom man trenger å legge elementene i en tilfeldig rekkefølge, så har random en funksjon som heter <code>shuffle()</code>:"
   ]
  },
  {
   "cell_type": "code",
   "execution_count": null,
   "metadata": {},
   "outputs": [],
   "source": [
    "list = ['en','to','tre','fire','fem']\n",
    "random.shuffle(list)\n",
    "print(list)"
   ]
  },
  {
   "cell_type": "markdown",
   "metadata": {},
   "source": [
    "### random()\n",
    "\n",
    "Dersom man har behov for en tilfeldig verdi mellom $0$ og $1$, så kan man benytte <code>random()</code>. Her ser du noen måter å bruke denne funksjonen:"
   ]
  },
  {
   "cell_type": "code",
   "execution_count": null,
   "metadata": {},
   "outputs": [],
   "source": [
    "#velg et tilfeldig tall mellom 0 og 1\n",
    "a = random.random()   #Husk at vi trenger random.random() :-(\n",
    "print(a)              #Men vi har nå bestemmt oss å bruke den uten enkle syntaks, prøv å tast inn\n",
    "                      #from random import random\n",
    "                      #og se hva skjer "
   ]
  },
  {
   "cell_type": "code",
   "execution_count": null,
   "metadata": {},
   "outputs": [],
   "source": [
    "b = random.random() * 100 # lag et tilfeldig tall mellom 0 og 100\n",
    "print(b)\n",
    "c = 1+random.random()     # og nå et tilfeldig tall mellom 1 og 2\n",
    "print(c)"
   ]
  },
  {
   "cell_type": "markdown",
   "metadata": {},
   "source": [
    "##### Tilfeldige tall?\n",
    "\n",
    "Er de tallene vi lager med <code>random()</code> (eller noen av de andre metoder fra pakken) virkelig tilfeldig? "
   ]
  },
  {
   "cell_type": "code",
   "execution_count": null,
   "metadata": {},
   "outputs": [],
   "source": [
    "random.seed(2)\n",
    "\n",
    "print(random.random())\n",
    "print(random.random())\n",
    "print(random.random())"
   ]
  },
  {
   "cell_type": "markdown",
   "metadata": {},
   "source": [
    "Hvis vi kaller funksjonenene skal de alltid skrive ut følgende tallene:\n",
    "```Python\n",
    "0.9560342718892494\n",
    "0.9478274870593494\n",
    "0.05655136772680869\n",
    "```\n",
    "Ser ikke tilfeldig ut hvis det skjer hver gang, ikke sant? Grunnen til det er kilden til tilfeldighet i programmene og algoritmene våre. De er ikke tilfeldig men vi bruker et matematisk triks som kalles en pseudotilfeldig tallgenerator. Den er avhengig av noen som kalles \"seed\" og hvis vi velger den får vi alltid det samme resultat.\n",
    "\n",
    "En tilfeldig tallgenerator er et system som genererer tilfeldige tall fra en sann kilde til tilfeldighet. Ofte kilden er noe fysisk, for eksempel en geigerteller, hvor resultatene blir omgjort til tilfeldige tall. Vi trenger ikke ekte tilfeldighet og dermed er pseudotilfeldige tall god nok for oss."
   ]
  },
  {
   "cell_type": "markdown",
   "metadata": {},
   "source": [
    "### Oppgave\n",
    "\n",
    "Vi kaster en vanlig terning.\n",
    "\n",
    "a) Regn ut sannsynligheten for at du får minst $5$ når du slår terningen en gang. Skriv inn formel for sannsynlighet først ($P(\\text{terning viser minst }5)=...$)"
   ]
  },
  {
   "cell_type": "markdown",
   "metadata": {},
   "source": [
    "**Celle for dine utregninger (dobbeltklikk her for å skrive inn tekst)**"
   ]
  },
  {
   "cell_type": "markdown",
   "metadata": {},
   "source": [
    "b) Skriv en dataprogram i Python som kaster terningen 10 ganger og skriver ut svaret. Hvor mange ganger fikk du minst 5? "
   ]
  },
  {
   "cell_type": "code",
   "execution_count": null,
   "metadata": {},
   "outputs": [],
   "source": [
    "#Kode ditt skriver du under, trykk SHIFT + ENTER for å kjøre den"
   ]
  },
  {
   "cell_type": "markdown",
   "metadata": {},
   "source": [
    "c) Tenk på hvordan du kunne lage et dataprogram som hjelper deg å kaste en terning 51 ganger."
   ]
  },
  {
   "cell_type": "code",
   "execution_count": null,
   "metadata": {},
   "outputs": [],
   "source": [
    "#Kode ditt skriver du under, trykk SHIFT + ENTER for å kjøre den"
   ]
  }
 ],
 "metadata": {
  "kernelspec": {
   "display_name": "Python 3",
   "language": "python",
   "name": "python3"
  },
  "language_info": {
   "codemirror_mode": {
    "name": "ipython",
    "version": 3
   },
   "file_extension": ".py",
   "mimetype": "text/x-python",
   "name": "python",
   "nbconvert_exporter": "python",
   "pygments_lexer": "ipython3",
   "version": "3.7.4"
  }
 },
 "nbformat": 4,
 "nbformat_minor": 4
}
