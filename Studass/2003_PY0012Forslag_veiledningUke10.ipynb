{
 "cells": [
  {
   "cell_type": "markdown",
   "metadata": {},
   "source": [
    "# Veiledningstime Uke 10\n",
    "Tema:\n",
    "1. Forventningsverdi\n",
    "2. Hypergeometrisk fordeling (gjerne se på fordelingen i Geogebra)\n",
    "3. Kanskje store talls lov\n",
    "\n",
    "Vi snakker om store talls loven kvalitativt og skal ikke kvantifisere konvergensen eller liknende. Dermed kan vi bare si at det betyr at den gjennomsnitt av tilfeldige variabler ville tilnærmere seg den forventningsverdi hvis vi gjenta forsøket ofte nok. Alle spørsmål angående den store talls loven la seg redusere på det (misoppfattninger er alltid om at det må jevne seg ut i det korte løp (\"små talls lov\" som fins ikke), eller er om absolute tall og ikke om relative (gjennomsnittlige) tall."
   ]
  },
  {
   "cell_type": "markdown",
   "metadata": {},
   "source": [
    "# Forslag Oppgave 1\n",
    "\n",
    "Diskuter den store talls loven og forklar hvorfor vi kan ikke forvente at hvis vi knipser et mynt (kaster en terning) at vi får en kron (en sekser) når vi har ikke fått den for ett lang tid (liknende: når vi har en lang serie av mynt, forklar at den store talls lov betyr ikke at vi kan regne med en lang serie av kron):  "
   ]
  },
  {
   "cell_type": "markdown",
   "metadata": {},
   "source": [
    "**Plass for ditt svar**"
   ]
  },
  {
   "cell_type": "markdown",
   "metadata": {},
   "source": [
    "# Forslag Oppgave 2\n",
    "\n",
    "Noen standardoppgaver for hypergeometrisk fordeling:\n",
    "\n",
    "(a) I en eske ligger det to blå og tre røde kuler. Du tar tilfeldig to kuler fra esken. Hva er sannsynligheten for at du får:\n",
    "* to blå kuler\n",
    "* en rød og en blå kule\n",
    "* to røde kuler\n",
    "* minst en rød kule\n",
    "\n",
    "**Løsning (slett før dere jobber med notaten) : 1/10  , 3/5 , 3/10, 9/10**"
   ]
  },
  {
   "cell_type": "markdown",
   "metadata": {},
   "source": [
    "**Plass for ditt svar**"
   ]
  },
  {
   "cell_type": "markdown",
   "metadata": {},
   "source": [
    "(b) I en eske ligger det $10$ røde og $12$ blå kuler. Vi trekker tilfeldig $6$ kuler fra esken. Sannsynligheten er $\\frac{60}{323}$ for at vi får et bestemt antall røde kuler. Hvor mange røde kuler får vi da?\n",
    "\n",
    "**Løsning (Slett): 4 røde kuler**"
   ]
  },
  {
   "cell_type": "markdown",
   "metadata": {},
   "source": [
    "**Plass for ditt svar**"
   ]
  },
  {
   "cell_type": "markdown",
   "metadata": {},
   "source": [
    "# Forslag Oppgave 3\n",
    "\n",
    "Litt Python. SciPy biblioteket har sannsynlighetsfordelinger ferdig inkludert. Jobb sammen og se på koden. Forklar hva den gjør (gi dem en introduksjon til SciPy hjelpesystemet fra hvilken jeg har hented koden:len <code>res</code> med verdi $3$?"
   ]
  },
  {
   "cell_type": "code",
   "execution_count": 4,
   "metadata": {},
   "outputs": [
    {
     "data": {
      "image/png": "[encoded data removed]",
      "text/plain": [
       "<Figure size 432x288 with 1 Axes>"
      ]
     },
     "metadata": {
      "needs_background": "light"
     },
     "output_type": "display_data"
    }
   ],
   "source": [
    "from scipy.stats import hypergeom\n",
    "import numpy as np\n",
    "import matplotlib.pyplot as plt\n",
    "\n",
    "[M, n, N] = [20, 7, 12]\n",
    "rv = hypergeom(M, n, N)\n",
    "x = np.arange(0, n+1)\n",
    "pmf_dogs = rv.pmf(x)\n",
    "fig = plt.figure()\n",
    "ax = fig.add_subplot(111)\n",
    "ax.plot(x, pmf_dogs, 'bo')\n",
    "ax.vlines(x, 0, pmf_dogs, lw=2)\n",
    "ax.set_xlabel('# of dogs in our group of chosen animals')\n",
    "ax.set_ylabel('hypergeom sannsynlighet for $k$')\n",
    "plt.show()"
   ]
  },
  {
   "cell_type": "code",
   "execution_count": null,
   "metadata": {},
   "outputs": [],
   "source": []
  }
 ],
 "metadata": {
  "kernelspec": {
   "display_name": "Python 3",
   "language": "python",
   "name": "python3"
  },
  "language_info": {
   "codemirror_mode": {
    "name": "ipython",
    "version": 3
   },
   "file_extension": ".py",
   "mimetype": "text/x-python",
   "name": "python",
   "nbconvert_exporter": "python",
   "pygments_lexer": "ipython3",
   "version": "3.7.4"
  }
 },
 "nbformat": 4,
 "nbformat_minor": 4
}
