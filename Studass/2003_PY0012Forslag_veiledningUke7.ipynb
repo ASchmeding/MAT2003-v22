{
 "cells": [
  {
   "cell_type": "markdown",
   "metadata": {},
   "source": [
    "# Veiledningstime Uke 7\n",
    "Tema:\n",
    "1. Forventningsverdi\n",
    "2. Python igjen?\n",
    "\n",
    "Viktigste begrep vi introduserte i uka er forventningsverdi. Det er viktig å ha en god forståelse av begrepet og hvordan man kan tolke den i forhold til et kontekst."
   ]
  },
  {
   "cell_type": "markdown",
   "metadata": {},
   "source": [
    "# Forslag Oppgave 1\n",
    "\n",
    "(a) *Ekstremt enkelt* Vi knipser en mynt og la $K$ bli antall av kron som forekommer i et knips. Bestemm $\\mathbb{E}(X)$. Tolk også verdiens betydning hvis vi gjenta forsøket mange ganger.  "
   ]
  },
  {
   "cell_type": "markdown",
   "metadata": {},
   "source": [
    "**Plass for ditt svar**"
   ]
  },
  {
   "cell_type": "markdown",
   "metadata": {},
   "source": [
    "(b) Tre kort velges fra en standard kortstokk (med 52 kort), og vi ønsker å observere antall billedkort som forekommer. La $X$ representere antall billedkort som forekommer på en gitt forsøk. Bestem forventningsverdi $\\mathbb{E}(X)$."
   ]
  },
  {
   "cell_type": "markdown",
   "metadata": {},
   "source": [
    "**Plass for ditt svar**"
   ]
  },
  {
   "cell_type": "markdown",
   "metadata": {},
   "source": [
    "# Forslag Oppgave 2\n",
    "\n",
    "Vi knipser mynter igjen og la $X_k$ være antall av kron vi får i $k$-forsøk (hvor $k$ er et naturlig tall).\n",
    "\n",
    "(a) Bestemm for $k=3$ forventningsverdi for $X_3$. (**kommentar for studentassistenter: Gjør det ved definisjonen av forventningsverdi og beregn sjanser ved bruk av sjansetre, vi bruker linearitet deretter, slett kommentaren før dere bruker dokumenten i undervisning**)"
   ]
  },
  {
   "cell_type": "markdown",
   "metadata": {},
   "source": [
    "**Plass for ditt svar**"
   ]
  },
  {
   "cell_type": "markdown",
   "metadata": {},
   "source": [
    "(b) Forklar at $X_2 = X_1 + X_1$ gjelder (merk: $X_1$ er variablen som modellerer antall kron i ett forsøk, IKKE i det første forsøk)  og videre at vi har formelene \n",
    "$$X_k = X_1 + X_{k-1} \\text{ og dermed } X_k = X_1 + X_1 + \\cdots + X_1.$$\n",
    "Hvorfor kan vi ikke trekke det sammen som $X_k = k X_1$?"
   ]
  },
  {
   "cell_type": "markdown",
   "metadata": {},
   "source": [
    "**Plass for ditt svar**"
   ]
  },
  {
   "cell_type": "markdown",
   "metadata": {},
   "source": [
    "Merk at (b) viser at det er ikke mulig å regne med tilfeldige variabler akkurat som med tall (det kunne har vært litt enklere hvis vi har brukt $X_1, X_1'$ osv. for de forskjellige variabler).\n",
    "\n",
    "(c) Bruk identitene i (b) for å beregne forventningsverdi til $X_k$ for alle $k \\in \\mathbb{N}$ (**kommentar for studentassistenter: Husk at forventningsverdien er linear, dvs. for tilfeldige variabeler gjelder  $\\mathbb{E}(X+Y)=\\mathbb{E}(X)+\\mathbb{E}(Y)$ og etter vi har tatt forventningsverdi har vi tall og kan regne som vanlig, dvs. problemet fra (b) at vi kan ikke trekke sammen skjer ikke! Igjen slett kommentaren før dere bruker arket**)"
   ]
  },
  {
   "cell_type": "markdown",
   "metadata": {},
   "source": [
    "**Plass for ditt svar**"
   ]
  },
  {
   "cell_type": "markdown",
   "metadata": {},
   "source": [
    "# Forslag Oppgave 3\n",
    "\n",
    "Vi knipser mynter igjen (! WTF is wrong with the guy and coins...) tre ganger. Finn forventningsverdien for antall av tre knipser du må gjøre for å se mønsteret 'KXK', der K betyr kron, og X er enten Kron eller Mynt.\n",
    "(Du vil fortsette å knipse mynten til du observerer enten KKK eller KMK og teller antall myntkast du har gjort intill mønstret opptrer)\n",
    "\n",
    "For å finne forventningsverdien skal vi simulere ved hjelp av Python. \n",
    "Vi definerer først en funkjson <code>mynt_knips()</code> som simulerer at vi knipser mynter og teller opp knips.\n",
    "\n",
    "(a) Forklar hva funkjsonen gjør (lag kommentar linje for linje). Hvorfor starter variablen <code>res</code> med verdi $3$?"
   ]
  },
  {
   "cell_type": "code",
   "execution_count": null,
   "metadata": {},
   "outputs": [],
   "source": [
    "from  random import choice\n",
    "def mynt_knips():\n",
    "    res = 3\n",
    "    x,y,z = choice([\"K\",\"M\"]), choice([\"K\",\"M\"]), choice([\"K\",\"M\"])\n",
    "    while x + z != \"KK\":\n",
    "        x,y,z = y,z, choice([\"K\",\"M\"])\n",
    "        res += 1\n",
    "    return res"
   ]
  },
  {
   "cell_type": "markdown",
   "metadata": {},
   "source": [
    "(b) Hvordan må vi endre funkjsonen hvis vi vil at den returnerer en liste med alle knips inntil mønstret kommer opp?"
   ]
  },
  {
   "cell_type": "code",
   "execution_count": null,
   "metadata": {},
   "outputs": [],
   "source": [
    "#Plass for ditt svar, siden vi trenger det senere: Finn et annet navn\n",
    "# for din ny funksjon som gir tilbake listen"
   ]
  },
  {
   "cell_type": "markdown",
   "metadata": {},
   "source": [
    "Vi definerer nå en ny funksjon <code>forventet_knips()</code> for å returnere gjennomsnittlig antall knips som kreves for å generere 'KXK'-mønster. \n",
    "\n",
    "(c) Forklar hva funksjonen gjør (kommenter linje for linje) og hva betydningen er av det for-løkken gjør. Hva sier resultatet av koden om forventningsverdien vi leter etter?"
   ]
  },
  {
   "cell_type": "code",
   "execution_count": null,
   "metadata": {},
   "outputs": [],
   "source": [
    "def forventet_knips(n):\n",
    "    t = 0\n",
    "    for i in range(n):\n",
    "        t = t + mynt_knips()\n",
    "    return t/n\n",
    "\n",
    "\n",
    "for i in range(1,20):\n",
    "    print(forventet_knips(2**i))"
   ]
  }
 ],
 "metadata": {
  "kernelspec": {
   "display_name": "Python 3",
   "language": "python",
   "name": "python3"
  },
  "language_info": {
   "codemirror_mode": {
    "name": "ipython",
    "version": 3
   },
   "file_extension": ".py",
   "mimetype": "text/x-python",
   "name": "python",
   "nbconvert_exporter": "python",
   "pygments_lexer": "ipython3",
   "version": "3.7.4"
  }
 },
 "nbformat": 4,
 "nbformat_minor": 4
}
