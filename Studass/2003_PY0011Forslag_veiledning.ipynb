{
 "cells": [
  {
   "cell_type": "markdown",
   "metadata": {},
   "source": [
    "# Noen eksempeloppgaver for Veiledningstime\n",
    "\n",
    "Tema:\n",
    "1. Algoritmer (gjerne snakk litt igjen om hva datamaskjinen gjør, dvs. jobber linje for linje)\n",
    "2. Listene og hva man kan gjøre med dem (se referanse til JuPyter notat)\n",
    "3. Litt om løkker (vi skal ha sett på dem i forelesning 14.01)\n",
    "\n",
    "Gjerne ta også noen standardprogrammeringsoppgaver, med enkelte funksjoner i Python. Vi antar atde fleste studenter er helt blank med alt angående programmering.\n",
    "\n",
    "Tema for diskusjon:\n",
    "1. Hvordan man laster inn biblioteker og hvor man finner de vanligste funkjsoner\n",
    "2. Løkker (forklar igjen for- og while- løkker),\n",
    "3. kan også alrede snakke litt om vilkår (ikke klar hvis vi klarer alrede if-vilkår)"
   ]
  },
  {
   "cell_type": "markdown",
   "metadata": {},
   "source": [
    "# Oppgave 1 (1.42 fra Matematikk 1T)\n",
    "\n",
    "Ta for deg denne algoritmen:\n",
    "\n",
    "*Tenk på et tall. Trekk så fra tre multiplisert med tallet som er en mindre enn tallet du tenkte på. Legg til det dobbelte av tallet du tenkte på. Trekk til slutt fra kvadratroten av ni.*\n",
    "\n",
    "(a) Utfør algoritmen (på papir) for noen tilfeldige tall. Hva ender du opp med?  \n",
    "I cellen under har du plass for å skrive ned det du trenger for innlevering. \n",
    "Vi bruker det som en liten øvelse hvordan man jobber i markdown celler. (Mer forklaring fins under cellen)"
   ]
  },
  {
   "cell_type": "markdown",
   "metadata": {},
   "source": [
    "**Cellen for svaret ditt (dobbeltklikk her for å skrive noe)**"
   ]
  },
  {
   "cell_type": "markdown",
   "metadata": {},
   "source": [
    "**Merk at du kan skrive i cellen som i Microsoft Word (eller liknende)**. I tillegg kan du skrive spesielle matematiske symboler (om du trenger dem) ved bruk av spesiell kode som settes mellom to dollartegn $\\$ \\text{plass for matematiske symboler}\\$ $, [her fins en introduksjon](https://ashki23.github.io/markdown-latex.html) med de vanligste kommando man kunne trenge."
   ]
  },
  {
   "cell_type": "markdown",
   "metadata": {},
   "source": [
    "(b) Frank tenker på tallet $-5$. Sett opp algoritmen for Franks tall i ett regnestykke, som du så regner ut."
   ]
  },
  {
   "cell_type": "markdown",
   "metadata": {},
   "source": [
    "**Cellen for svaret ditt (dobbeltklikk her for å skrive noe)**"
   ]
  },
  {
   "cell_type": "markdown",
   "metadata": {},
   "source": [
    "(c) Lag et program som utfører algoritmen for et tall."
   ]
  },
  {
   "cell_type": "code",
   "execution_count": null,
   "metadata": {},
   "outputs": [],
   "source": [
    "#Skriv kode ditt under, husk å kjøre den ved å trykke SHIFT + ENTER "
   ]
  },
  {
   "cell_type": "markdown",
   "metadata": {},
   "source": [
    "# Oppgave 2\n",
    "\n",
    "Lag en liste $A$ med $8$ partall, og en liste $B$ med $8$ oddetall.\n",
    "Tipps: Mer om lister fins i Jupyternotat *PY0101No-2-2-Lists*"
   ]
  },
  {
   "cell_type": "code",
   "execution_count": null,
   "metadata": {},
   "outputs": [],
   "source": [
    "#Skriv kode ditt under, husk å kjøre den ved å trykke SHIFT + ENTER "
   ]
  },
  {
   "cell_type": "markdown",
   "metadata": {},
   "source": [
    "(a) Prøv å addere de to listene (ved bruk av <code>A+B</code>). Hva skjer?"
   ]
  },
  {
   "cell_type": "code",
   "execution_count": null,
   "metadata": {},
   "outputs": [],
   "source": [
    "#Skriv kode ditt under, husk å kjøre den ved å trykke SHIFT + ENTER "
   ]
  },
  {
   "cell_type": "markdown",
   "metadata": {},
   "source": [
    "(b) Kan du dele eller gange de to listene med hverandre?"
   ]
  },
  {
   "cell_type": "code",
   "execution_count": null,
   "metadata": {},
   "outputs": [],
   "source": [
    "#Skriv kode ditt under, husk å kjøre den ved å trykke SHIFT + ENTER "
   ]
  },
  {
   "cell_type": "markdown",
   "metadata": {},
   "source": [
    "(c) Skriv ut det første, det siste, og de to midterste tallene fra en av listene."
   ]
  },
  {
   "cell_type": "code",
   "execution_count": null,
   "metadata": {},
   "outputs": [],
   "source": [
    "#Skriv kode ditt under, husk å kjøre den ved å trykke SHIFT + ENTER "
   ]
  },
  {
   "cell_type": "markdown",
   "metadata": {},
   "source": [
    "(d) Legg til et element i begge listene, og slett det tredje elementet i hver av dem."
   ]
  },
  {
   "cell_type": "code",
   "execution_count": null,
   "metadata": {},
   "outputs": [],
   "source": [
    "#Skriv kode ditt under, husk å kjøre den ved å trykke SHIFT + ENTER "
   ]
  },
  {
   "cell_type": "markdown",
   "metadata": {},
   "source": [
    "# Oppgave 3\n",
    "\n",
    "(a) Lag et program som skriver ut partallene mellom $500$ og $750$ med en <code>while</code>-løkke"
   ]
  },
  {
   "cell_type": "code",
   "execution_count": null,
   "metadata": {},
   "outputs": [],
   "source": [
    "#Skriv kode ditt under, husk å kjøre den ved å trykke SHIFT + ENTER "
   ]
  },
  {
   "cell_type": "markdown",
   "metadata": {},
   "source": [
    "(b) *Fibonacci tallene* er en spesiell tallrekke som er gitt ved \n",
    "$$1 ,\\ 1 ,\\ 2 ,\\ 3,\\ 5,\\ 8,\\ 13,\\ \\cdots$$\n",
    "Lag et dataprogram i Python som lager en liste som inneholder de 20 første tallene i denne tallrekken! Avslutt programmet med å skrive ut listen."
   ]
  },
  {
   "cell_type": "code",
   "execution_count": null,
   "metadata": {},
   "outputs": [],
   "source": [
    "#Skriv kode ditt under, husk å kjøre den ved å trykke SHIFT + ENTER "
   ]
  },
  {
   "cell_type": "markdown",
   "metadata": {},
   "source": [
    "(c) Noe som er veldig interessant med denne tallrekken er forholdet mellom etterfølgende element. Lag en ny liste i programmet ditt, der du legger inn forholdet mellom tall 2 og tall 1, tall 3 og tall 2, tall 4 og tall 3 osv.."
   ]
  },
  {
   "cell_type": "code",
   "execution_count": null,
   "metadata": {},
   "outputs": [],
   "source": [
    "#Skriv kode ditt under, husk å kjøre den ved å trykke SHIFT + ENTER "
   ]
  },
  {
   "cell_type": "markdown",
   "metadata": {},
   "source": [
    "Hva er det som er så spesielt med det tallet vi ender opp med i denne siste tallrekken? Hvis du ikke kjenner det igjen, se om Google kanskje gjør det... (skriv svaret ditt i tekstboksen under)"
   ]
  },
  {
   "cell_type": "markdown",
   "metadata": {},
   "source": [
    "**Cellen for svaret ditt (dobbeltklikk her for å skrive noe)**"
   ]
  },
  {
   "cell_type": "markdown",
   "metadata": {},
   "source": [
    "(d) Se på kode nedover. Hva er verdien av variablen $y$ etter koden har kjørt? \n",
    "Skriv kommentar ved siden av hver linje i kode som forklarer hva skjer i denne linja."
   ]
  },
  {
   "cell_type": "code",
   "execution_count": null,
   "metadata": {},
   "outputs": [],
   "source": [
    "y = 0\n",
    "for i in range(1000):\n",
    "    for j in range(1000):\n",
    "        if i == j:\n",
    "            y += 1"
   ]
  },
  {
   "cell_type": "markdown",
   "metadata": {},
   "source": [
    "Noen tipps: \n",
    "1. $==$ er et logisk utrykk (sjekk f.eks. notatbok om disse)\n",
    "2. <code>+=</code> adderer til det som står på venstre det som står på høyre.\n",
    "3. Du kan bruke <code>?kommando</code> for å få Python å gi mer informasjon om innebyggde funksjoner som for eksempel <code>range</code>"
   ]
  }
 ],
 "metadata": {
  "kernelspec": {
   "display_name": "Python 3",
   "language": "python",
   "name": "python3"
  },
  "language_info": {
   "codemirror_mode": {
    "name": "ipython",
    "version": 3
   },
   "file_extension": ".py",
   "mimetype": "text/x-python",
   "name": "python",
   "nbconvert_exporter": "python",
   "pygments_lexer": "ipython3",
   "version": "3.7.4"
  }
 },
 "nbformat": 4,
 "nbformat_minor": 4
}
