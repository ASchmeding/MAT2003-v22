{
 "cells": [
  {
   "cell_type": "markdown",
   "metadata": {},
   "source": [
    "# Noen eksempeloppgaver for Veiledningstime\n",
    "\n",
    "Tema:\n",
    "1. Funksjoner i Python (Veldig viktig å lage eksempler for disse!) \n",
    "2. Løkker og vilkår\n",
    "\n",
    "Gjerne ta også noen standardprogrammeringsoppgaver, med enkelte funksjoner i Python. Vi antar at de fleste studenter er helt blank med alt angående programmering."
   ]
  },
  {
   "cell_type": "markdown",
   "metadata": {},
   "source": [
    "Gjør noe veldig enkelt (kanskje bra for noen studenter)\n",
    "\n",
    "Forklar hva går galt med følgende program"
   ]
  },
  {
   "cell_type": "code",
   "execution_count": null,
   "metadata": {},
   "outputs": [],
   "source": [
    "C = A + B\n",
    "A = 3\n",
    "B = 2\n",
    "print C"
   ]
  },
  {
   "cell_type": "markdown",
   "metadata": {},
   "source": [
    "# Forslag Oppgave 1\n",
    "\n",
    "Vi slår $3$ terninger, og legger sammen verdien på dem. Den laveste summen vi kan få er $3$, og den høyeste summen vi kan få er $18$. Hva er sannsynligheten for at summen blir større enn $10$? \n",
    "\n",
    "1. La oss utforske dette ved å gjenta forsøket $10 000$ ganger, og finne ut hvor mange prosent av gangene summen blir større enn $10$.\n",
    "\n",
    "2. Diskuter med dem hvordan man kan lage en funksjon som beregner sannsynlighet for det. Diskuter har vilke variabler skulle gis til funksjonen, feks. antall terninger, antall forsøk, tall noe skal bli større \n",
    "\n",
    "Prøv å vise dem gode programmeringsvaner: I forelesning lager jeg en funksjonsdokumentasjon som kommentar i funksjonsdefinisjon som forklarer hva skjer eller hvordan man bruker funkjsonen"
   ]
  },
  {
   "cell_type": "markdown",
   "metadata": {},
   "source": [
    "# Forslag Oppgave 2\n",
    "\n",
    "(a) Lag en funksjon som sammenligner to tall og forteller deg hvilket som er størst."
   ]
  },
  {
   "cell_type": "code",
   "execution_count": null,
   "metadata": {},
   "outputs": [],
   "source": [
    "def sammenlikning(a,b):   #Ikke endre noe i denne linjen\n",
    "    # ----- Her kommer dokumentasjon (du må legge den inn)\n",
    "    #  Plass for en forklaring hva funksjonen gjør (du kan slette mine forklaringer),\n",
    "    #  men dokumentasjonen skal vise til noen  som er ikke kjennt med koden din,\n",
    "    #  hva funksjonen gjør og hvordan man bruker den, f.eks. kan den forklare hva variablene\n",
    "    #  a og b betyr og hva funksjonen gjør med dem. \n",
    "    # ----- Dokumentasjon avsluttes etter linjen\n",
    "    #Skriv din kode inn i her, kjør koden ved trykk av SHIFT + ENTER"
   ]
  },
  {
   "cell_type": "code",
   "execution_count": null,
   "metadata": {},
   "outputs": [],
   "source": [
    "#Testfelt for sammenlikningsfunksjon, ikke endre noe her\n",
    "sammenlikning(1,2)\n",
    "sammenlikning(-1,3)\n",
    "sammenlikning(1,1)\n",
    "sammenlikning(2.5,-42)"
   ]
  },
  {
   "cell_type": "markdown",
   "metadata": {},
   "source": [
    "(b) Lag en funksjon <code>min_sylinder(r,h)</code>, hvor $r$ og $h$ er henholdsvis radius og høyde til en sylinder, og funksjonen gir tilbake en liste <code>[s, v]</code> der $s$ og $v$ er overflatearealet og volumet til samme sylinder. Husk at overflatearealet til en sylinder er $2\\pi r^2 \\ + 2\\pi r h$, og volumet er $πr^2h$.\n",
    "\n",
    "Tipps: Du trenger å laste inn en bibliotek som gir definisjonen av $\\pi$."
   ]
  },
  {
   "cell_type": "code",
   "execution_count": null,
   "metadata": {},
   "outputs": [],
   "source": [
    "#Skriv inn koden din her, ikke glem å laste inn pakken du trenger for PI! \n",
    "#Utfør koden ved trykk av SHIFT + ENTER"
   ]
  },
  {
   "cell_type": "code",
   "execution_count": null,
   "metadata": {},
   "outputs": [],
   "source": [
    "#Igjen tester vi funksjonen\n",
    "min_sylinder(1,5)\n",
    "#Forvented resultat: [37.6991, 15.7080]"
   ]
  }
 ],
 "metadata": {
  "kernelspec": {
   "display_name": "Python 3",
   "language": "python",
   "name": "python3"
  },
  "language_info": {
   "codemirror_mode": {
    "name": "ipython",
    "version": 3
   },
   "file_extension": ".py",
   "mimetype": "text/x-python",
   "name": "python",
   "nbconvert_exporter": "python",
   "pygments_lexer": "ipython3",
   "version": "3.7.4"
  }
 },
 "nbformat": 4,
 "nbformat_minor": 4
}
