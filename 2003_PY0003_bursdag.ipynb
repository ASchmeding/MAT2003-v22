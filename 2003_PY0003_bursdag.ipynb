{
 "cells": [
  {
   "cell_type": "markdown",
   "metadata": {},
   "source": [
    "# Bursdagsparadoks\n",
    "\n",
    "Vi bruker Python for å utforske et enkelt spørsmål om bursdager. Vi er i en gruppe av personer (f.eks. alle studenter som er med i kurset) og spør oss om hvor sannsynlig det er at to av de personer (eller flere) har bursdag på samme dag. Før vi ser på det la oss se på deres formodninger.\n",
    "\n",
    "**Spørsmål:** Hvor mange personer trenger man før sjansen er 50% at minst to personer har bursdag på samme dag? "
   ]
  },
  {
   "cell_type": "code",
   "execution_count": null,
   "metadata": {},
   "outputs": [],
   "source": [
    "#Plass for deres formodninger... La oss lage en liste i Python for å huske det vi har gjettet\n",
    "L = []"
   ]
  },
  {
   "cell_type": "markdown",
   "metadata": {},
   "source": [
    "#### Hvor mange trenger man før man finner to med bursdag samme dag?\n",
    "\n",
    "For hvor stor er sjansen for at to personer i en tilfeldig gruppe har bursdag på samme dag? Det avhenger selvsagt av hvor stor gruppen er.\n",
    "\n",
    "- Hvis vi har bare en person, så er sjansen selvfølgelig lik $0$.\n",
    "- For to eller flere personer kan vi bruke konsepter fra siste semester for å beregne sannsynligheter, men vi må avklare noen regler før vi kan regne\n",
    "\n",
    "##### Modellering for bursdager\n",
    "\n",
    "Vi antar at\n",
    "1. hver år har 365 dager (ingen skuddår, dvs. vi tenker ikke på folk som har bursdag på 29.02)\n",
    "2. hver dag er like sannsynlig for en bursdag (dette stemmer ikke, se f.eks. denne [artikkel](https://www.ncbi.nlm.nih.gov/pmc/articles/PMC3743217/), eller spør folk som jobber på fødselavdeling i Norge i juni/juli)\n",
    "3. vi er bare interessert i dagen ikke i år av bursdager.\n",
    "\n",
    "##### **Oppgaver**\n",
    "\n",
    "1. Forklar hva sannsynligheten er at en person har bursdag på en tilfeldig valgt dag i året. Hvilket tolkning av sannsynlighet har du brukt for det?\n",
    "2. Beregn sjansen at en person har bursdag i en tilfeldig valgt dag mens en annen person ikke har bursdag på denne dagen.\n",
    "3. Kan du generalisere formelen fra 2. for $k$ personer (hvor $k > 2$ er et naturlig tall)? "
   ]
  },
  {
   "cell_type": "markdown",
   "metadata": {},
   "source": [
    "**Plass for dine svar, dobbeltklikk her for å skrive noe**"
   ]
  },
  {
   "cell_type": "markdown",
   "metadata": {},
   "source": [
    "## Simulering av problemen i Python\n",
    "\n",
    "I stedet av å beregne sannsynlighet som i siste avsnitt skal vi bruke Python for å simulere problemen. Ifølge empirisk tolkning av sannsynlighet kan vi få en tilnærming til den teoretisk (kombinatorisk) sannsynlighet hvis vi simulerer problemen ofte nok.\n",
    "\n",
    "La oss omdanne problemen litt for å få noen konkrete tall for å jobbe med. Vi antar nå at gruppen vi ser på består av to fotballlag sammen med en dommer, dvs. vi har $23$ personer i gruppen vi ser på."
   ]
  },
  {
   "cell_type": "markdown",
   "metadata": {},
   "source": [
    "Vi ser at vi har noen oppgaver vi skal løse før vi kan simulere prosessen i Python. Vi må\n",
    "1. lage tilfeldige bursdager for alle $23$ personer som er med i gruppen,\n",
    "2. deretter, sjekke hvis to personer har det samme bursdag og lagre resultat,\n",
    "3. repeterre steg 1.-2. veldig ofte for å simulere problemen\n",
    "4. beregne en tilnærming til sannsynligheten av hendelsen $A = \\text{(minst) $2$ har bursdag på samme dag en gruppe av $23$}$ har bursdag på samme dag via formelen\n",
    "   $$P(A) \\approx \\frac{\\text{Antall av forsøk hvor (minst) to har bursdag på samme dag}}{\\text{Antall av alle forsøk}}$$\n",
    "\n",
    "Vi begynner ved å laste inn nødvendige biblioteker."
   ]
  },
  {
   "cell_type": "code",
   "execution_count": null,
   "metadata": {},
   "outputs": [],
   "source": [
    "# last inn random bibliotek\n",
    "import random as rdm"
   ]
  },
  {
   "cell_type": "markdown",
   "metadata": {},
   "source": [
    "Vi utfører nå planen vi har lagd ut. Først å framst la oss definere en ny variabel som måler hvor mange personer er i gruppen. Deretter prøver dere å lage en kode som genererer en liste med tilfeldige bursdager for disse personer."
   ]
  },
  {
   "cell_type": "code",
   "execution_count": null,
   "metadata": {},
   "outputs": [],
   "source": [
    "#Vi definerer noen variabler, vi legger dem i slik at vi kan (muligensvis) endre dem senere \n",
    "#Ikke endre navn til variablene men du kan endre verdien\n",
    "no_pers = 5               #Variabel som måles antall av personer i gruppen\n",
    "                          \n",
    "no_mulige_bursdager = 365 #Hvis vi ville tilatte skuddår må den endres til 366\n",
    "\n",
    "#Plass for din kode som lager en liste bursdager med tilfeldige tall som er bursdagene for \n",
    "#de personer som er med i gruppen, Husk at du kan bruke random bibliotek som rdm"
   ]
  },
  {
   "cell_type": "markdown",
   "metadata": {},
   "source": [
    "Vi må nå sjekke hvis to tall er det samme i listen bursdag vi har laget. For dette minner vi om at <code>list</code> i Python tilatter at de samme elementer fins flere ganger. \n",
    "\n",
    "Det enkleste måten å finne ut hvis det fins noen elementer i en liste som fins flere ganger, er det å be Python å omdanne listen til noe som ikke har dobble elementer. I Python fins det en datatyp som oppfører seg (nesten) som en liste men ikke tilatter at man har dobble elementer, den heter <code>set</code> (engelsk for mengde). Se på neste cellen for noen eksempler:"
   ]
  },
  {
   "cell_type": "code",
   "execution_count": null,
   "metadata": {},
   "outputs": [],
   "source": [
    "mengde = {\"epler\", \"banan\", \"pærer\"} #Mengder lagres med krølleparenteser\n",
    "print(mengde)\n",
    "\n",
    "mengde2 = {\"epler\", \"banan\", \"pærer\", \"epler\"}\n",
    "liste  = [\"epler\", \"banan\", \"pærer\", \"epler\"]\n",
    "print(\"Set sletter elementer som fins oftere enn en gang\", mengde2, \"\\n mens list gjør det ikke\", liste)\n",
    "\n",
    "print(\"\\n \\n Ting vi kan gjøre med mengder:\")\n",
    "print (\"\\n Vi kan omdanne list til set\", set(liste))\n",
    "print (\"\\n len() kommando fins for set og viser hvor mange elementer mengden har\", len(mengde2))"
   ]
  },
  {
   "cell_type": "markdown",
   "metadata": {},
   "source": [
    "Så hvis vi har en liste som vi vil sjekke om det har dobbelte elementer kan vi omdanne det til en mengde og sjekke hvis antall av elementer har forandret seg. \n",
    "\n",
    "**Spørsmål** Hvordan kan jeg sjekke ved å sammenligne lengden av en liste og den mengden vi lagde fra listen, hvis det fins dobbelte elementer i listen?"
   ]
  },
  {
   "cell_type": "markdown",
   "metadata": {},
   "source": [
    "**Plass for dine svar, dobbeltklikk her for å skrive noe**"
   ]
  },
  {
   "cell_type": "code",
   "execution_count": null,
   "metadata": {},
   "outputs": [],
   "source": [
    "#lag Python kode som skriver ut hvis listen bursdager vi har lagd har elementer som er\n",
    "#dobbelte. (Bruk vilkår for dette, koden din kan skrives inn under)"
   ]
  },
  {
   "cell_type": "markdown",
   "metadata": {},
   "source": [
    "#### Lage kode som er gjenbrukbar\n",
    "\n",
    "Vi har nå lagd kode som genererer en liste med tilfeldige bursdager for ett antall av personer og sjekker hvis det fins dobbelte dager i listen. Det er lurt å lage koden på en måte at den er gjenbrukbar, dvs. hvis vi endrer spørsmålet litt (for eksempel hvis gruppenstørrelse endrer seg), at vi kan bruke koden igjen uten at vi må gå inn i koden og endre mye. Dette kan man gjøre med en programmeringstekning som heter <code>function</code> (funksjon på norsk). \n",
    "\n",
    "En funksjon er en liten kodebit som likner på matematiske funksjoner. Hver funksjon returnerer en utdataverdi basert på en inngangsverdi den får. Vel, en bemerkelsesverdig forskjell er at innganger og utganger er valgfrie i Python-funksjoner (i motsetning til i matematiske funksjoner), men la oss la denne tekniske detaljen ligge til side for nå. Vi skal lære om den nå og ta en liten tur innom JuPyter notat om funksjoner for å få mer informasjon.\n",
    "\n",
    "La meg vise et eksempel for en funksjon i Python"
   ]
  },
  {
   "cell_type": "code",
   "execution_count": null,
   "metadata": {},
   "outputs": [],
   "source": [
    "def lag_k_bursdager(k, mulige_dager=365):\n",
    "    #-------------- Funksjonsdokumentasjon ------------------\n",
    "    #lag_k_bursdager ta imot to variabler\n",
    "    #    k              antall av bursdager som skal lages (bør være av type int)\n",
    "    #    mulige_dager   antall av dager i år, standardverdi er 365 (dette er hva =365 betyr)\n",
    "    #utdata: liste <<bursdager>> med k tilfeldige tall mellom 1 og mulige_dager\n",
    "    # MERK: Funksjonen forventer at random bibliotek er lastet inn som rdm\n",
    "    #-------------- slutt av funksjonsdokumentasjon ---------\n",
    "    bursdager = []\n",
    "    for _ in range(k):\n",
    "        bursdager.append(rdm.randint(1,mulige_dager))\n",
    "    return bursdager"
   ]
  },
  {
   "cell_type": "markdown",
   "metadata": {},
   "source": [
    "Som vi ser hvis vi kjører kodecellen over skriver den ut ingenting. Hva skjer internt er at Python kernel får informasjon om en ny funksjon <code>lag_k_bursdager</code> vi kan nå bruke siden vi har forklart den til Python. Vitsen er at vi kan kalle funksjonen nå med forskjellige verdier og får resultatet:"
   ]
  },
  {
   "cell_type": "code",
   "execution_count": null,
   "metadata": {},
   "outputs": [],
   "source": [
    "#La oss teste lag_k_bursdager nå\n",
    "bursdager_5 = lag_k_bursdager(5)   # Vi kaller funksjonen for k = 5\n",
    "print(\"Liste med 5 burssdager:\", bursdager_5)\n",
    "bursdager_23 = lag_k_bursdager(23) # Nå bruker vi funksjonen for k = 23\n",
    "print(\"Liste med 23 bursdager:\", bursdager_23)"
   ]
  },
  {
   "cell_type": "markdown",
   "metadata": {},
   "source": [
    "Egentlig ladge vi en funksjon <code>lag_k_bursdager(k,mulige_dager)</code> som forventer to variabler. Vi kan endre antall av dager in år (det er hva mulige_dager gjør) om vi ønsker det. At vi kan bruke funksjonen uten at vi setter inn to verdier er pga. den andre verdien har en standardverdi ($=365$). Men vi kan forandre det om vi vil:"
   ]
  },
  {
   "cell_type": "code",
   "execution_count": null,
   "metadata": {},
   "outputs": [],
   "source": [
    "#Vår funksjon nå med to verdier, vi ser på et år med 20 dager \n",
    "# (tull men enklere å se hva skjer)\n",
    "print(lag_k_bursdager(23,20))"
   ]
  },
  {
   "cell_type": "markdown",
   "metadata": {},
   "source": [
    "Vi lager nå en funksjon som finner ut hvis en liste har elementer som er dobbelt i listen."
   ]
  },
  {
   "cell_type": "code",
   "execution_count": null,
   "metadata": {},
   "outputs": [],
   "source": [
    "def sjekk_dobbelt (liste):  \n",
    "     #-------------- Funksjonsdokumentasjon ------------------\n",
    "     # sjekk_dobbelt tar imot en \n",
    "     #     liste  variabel av type list\n",
    "     # og finner ut hvis den har dobbelte elementer, \n",
    "     # utdata : boolean (True hvis det fins dobbelte, False hvis ikke)\n",
    "     #-------------- slutt av Funksjonsdokumentasjon ----------\n",
    "    mengde = set(liste)\n",
    "    if len(mengde) != len(liste):\n",
    "        return True\n",
    "    else:\n",
    "        return False"
   ]
  },
  {
   "cell_type": "markdown",
   "metadata": {},
   "source": [
    "Igjen ingenting skrives ut når vi kjører koden men Python vet nå om <code>sjekk_dobbelt</code>. La oss teste funksjonen nå:"
   ]
  },
  {
   "cell_type": "code",
   "execution_count": null,
   "metadata": {},
   "outputs": [],
   "source": [
    "#Se på den nye funksjonen\n",
    "print(sjekk_dobbelt([1,2,3]), \",fordi det fins ingen dobbelte\")\n",
    "print(sjekk_dobbelt([1,2,2,1]), \",fordi det fins dobbelte\")"
   ]
  },
  {
   "cell_type": "markdown",
   "metadata": {},
   "source": [
    "La oss lage nå en funksjon som beregner en tilnærmingsverdi for sannsynligheten at minst to personer fra $k$ har bursdag på samme dag."
   ]
  },
  {
   "cell_type": "code",
   "execution_count": null,
   "metadata": {},
   "outputs": [],
   "source": [
    "def bursdags_paradoks_simulering (k, hvorofte):\n",
    "    #-------------- Funksjonsdokumentasjon ------------------\n",
    "    # Skriv noe!\n",
    "    #-------------- slutt av Funksjonsdokumentasjon ---------\n",
    "    \n",
    "    #Oppgave: kommenter linjer og forklar hva skjer \n",
    "    antall_med_dobbelte = 0 \n",
    "    for _ in range(hvorofte):\n",
    "        bursdager = lag_k_bursdager(k)\n",
    "        fins_dobbelte = sjekk_dobbelt(bursdager)\n",
    "        if fins_dobbelte:\n",
    "            antall_med_dobbelte +=1\n",
    "    return antall_med_dobbelte / hvorofte "
   ]
  },
  {
   "cell_type": "code",
   "execution_count": null,
   "metadata": {},
   "outputs": [],
   "source": [
    "# Ta simulering nå for k=23 og hvorofte = 10, 100 , 1000, 10000 og 100000\n",
    "for hvorofte in [10,100,1000,10000,100000]:\n",
    "    print(\"Estimat for sannsynlighet for 23 personer og \", hvorofte, \"forsøk er \\n\")\n",
    "    print(bursdags_paradoks_simulering(23,hvorofte))"
   ]
  },
  {
   "cell_type": "markdown",
   "metadata": {},
   "source": [
    "Som forvented fra empirisk tolkning av sannsynlighet er estimaten bedre fo oftere vi gjenta forsøket. I endelse kommer vi ut med en estimat som ligger litt over $50\\%$, dvs. for $23$ personer har vi alrede en ganske bra sjanse at to har bursdag på samme dag. Fordi det ses uforvented ut for mange kaller man resultatet bursdagsparadoks. \n",
    "\n",
    "Til slutt kan vi også gjenbruke koden vår for å lage estimater for ganske mange forskjellige $k$. Vi kan skrive dem ut i en graf som viser oss hvordan sannsynligheten utvikler seg for forskjellige antall av personer i gruppen vi ser på."
   ]
  },
  {
   "cell_type": "code",
   "execution_count": null,
   "metadata": {},
   "outputs": [],
   "source": [
    "import matplotlib.pyplot as plt\n",
    "import seaborn as sns\n",
    " \n",
    " \n",
    "MIN_Antall_pers = 2\n",
    "MAX_Antall_pers = 60\n",
    "mulige_dager = 365\n",
    "hvor_ofte = 10000\n",
    "\n",
    "#Oppgave: Lag funksjonsdokumentasjon og forklaringer for funksjonen estimat_sans_for_range\n",
    "\n",
    "def estimat_sans_for_range(ks,hvor_ofte):\n",
    "    k_sannsynlighet = []\n",
    " \n",
    "    for k in ks:\n",
    "        p_bursdager = bursdags_paradoks_simulering(k,hvor_ofte)\n",
    "        k_sannsynlighet.append(p_bursdager)\n",
    "         \n",
    "    return k_sannsynlighet\n",
    " \n",
    "#Hva gjør de neste to linjer? \n",
    "ks = range(MIN_Antall_pers, MAX_Antall_pers + 1)\n",
    "k_sannsynligheter = estimat_sans_for_range(ks,hvor_ofte)\n",
    " \n",
    "#Neste linjer er for plotting ved hjelp av seaborn, \n",
    "#ignorer dem, de gjør at vi får pene bilder \n",
    "fig, ax = plt.subplots(figsize=(10, 10), dpi=49)\n",
    "ax.set_facecolor('#518792')\n",
    "ax.xaxis.set_tick_params(width=5, color='#2d3233')\n",
    "ax.yaxis.set_tick_params(width=5, color='#2d3233')\n",
    " \n",
    "sns.lineplot(x=ks, y=k_sannsynligheter, color='#2d3233')\n",
    " \n",
    "plt.xticks(fontsize=15, color='#2d3233')\n",
    "y_range = [0, 0.1, 0.2, 0.3, 0.4, 0.5, 0.6, 0.7, 0.8, 0.9, 1]\n",
    "plt.yticks(y_range, fontsize=15, color='#2d3233')\n",
    "plt.grid()\n",
    "plt.xlim([0, 60])\n",
    "plt.ylim([0, 1])\n",
    "plt.xlabel('Antall av personer', fontsize=30, color='#2d3233')\n",
    "plt.ylabel('P(Minst to har bursdag på samme dag)', fontsize=30, color='#2d3233')\n",
    " \n",
    "plt.show()"
   ]
  }
 ],
 "metadata": {
  "kernelspec": {
   "display_name": "Python 3",
   "language": "python",
   "name": "python3"
  },
  "language_info": {
   "codemirror_mode": {
    "name": "ipython",
    "version": 3
   },
   "file_extension": ".py",
   "mimetype": "text/x-python",
   "name": "python",
   "nbconvert_exporter": "python",
   "pygments_lexer": "ipython3",
   "version": "3.7.4"
  }
 },
 "nbformat": 4,
 "nbformat_minor": 2
}
